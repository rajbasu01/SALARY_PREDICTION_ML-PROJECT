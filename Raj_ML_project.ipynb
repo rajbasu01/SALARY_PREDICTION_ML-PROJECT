{
 "cells": [
  {
   "cell_type": "code",
   "execution_count": 1,
   "id": "6334266d",
   "metadata": {},
   "outputs": [],
   "source": [
    "import numpy as np\n",
    "import seaborn as sns\n",
    "import pandas as pd"
   ]
  },
  {
   "cell_type": "code",
   "execution_count": 2,
   "id": "9beb1eec",
   "metadata": {},
   "outputs": [],
   "source": [
    "df_city = pd.read_csv(\"E:\\STUDY MATERIAL\\DATA SCIENCE\\machine learning and python\\project files\\cities.csv\", header=0)"
   ]
  },
  {
   "cell_type": "code",
   "execution_count": 3,
   "id": "237ec975",
   "metadata": {},
   "outputs": [
    {
     "data": {
      "text/html": [
       "<div>\n",
       "<style scoped>\n",
       "    .dataframe tbody tr th:only-of-type {\n",
       "        vertical-align: middle;\n",
       "    }\n",
       "\n",
       "    .dataframe tbody tr th {\n",
       "        vertical-align: top;\n",
       "    }\n",
       "\n",
       "    .dataframe thead th {\n",
       "        text-align: right;\n",
       "    }\n",
       "</style>\n",
       "<table border=\"1\" class=\"dataframe\">\n",
       "  <thead>\n",
       "    <tr style=\"text-align: right;\">\n",
       "      <th></th>\n",
       "      <th>Metrio City</th>\n",
       "      <th>non-metro cities</th>\n",
       "    </tr>\n",
       "  </thead>\n",
       "  <tbody>\n",
       "    <tr>\n",
       "      <th>0</th>\n",
       "      <td>Mumbai</td>\n",
       "      <td>Dehradun</td>\n",
       "    </tr>\n",
       "    <tr>\n",
       "      <th>1</th>\n",
       "      <td>Delhi</td>\n",
       "      <td>Durgapur</td>\n",
       "    </tr>\n",
       "    <tr>\n",
       "      <th>2</th>\n",
       "      <td>Kolkata</td>\n",
       "      <td>Asansol</td>\n",
       "    </tr>\n",
       "    <tr>\n",
       "      <th>3</th>\n",
       "      <td>Chennai</td>\n",
       "      <td>Rourkela</td>\n",
       "    </tr>\n",
       "    <tr>\n",
       "      <th>4</th>\n",
       "      <td>Bangalore</td>\n",
       "      <td>Kozhikode</td>\n",
       "    </tr>\n",
       "  </tbody>\n",
       "</table>\n",
       "</div>"
      ],
      "text/plain": [
       "  Metrio City non-metro cities\n",
       "0      Mumbai         Dehradun\n",
       "1       Delhi         Durgapur\n",
       "2     Kolkata          Asansol\n",
       "3     Chennai         Rourkela\n",
       "4   Bangalore        Kozhikode"
      ]
     },
     "execution_count": 3,
     "metadata": {},
     "output_type": "execute_result"
    }
   ],
   "source": [
    "#first few rows of data frame\n",
    "df_city.head()"
   ]
  },
  {
   "cell_type": "code",
   "execution_count": 4,
   "id": "d100ec09",
   "metadata": {},
   "outputs": [],
   "source": [
    "# i have rename the column name\n",
    "df_city.rename(columns={'Metrio City': 'metro', 'non-metro cities': 'non_metro'}, inplace=True)"
   ]
  },
  {
   "cell_type": "code",
   "execution_count": 5,
   "id": "543f76e0",
   "metadata": {},
   "outputs": [],
   "source": [
    "# I have created a function assign numerical values to city based on metro and non metro\n",
    "def city(row):\n",
    "    if row['City'] in df_city['metro'].values:\n",
    "        return 1\n",
    "    elif row['City'] in df_city['non_metro'].values:\n",
    "        return 0\n",
    "    else:\n",
    "        return 'unknown'"
   ]
  },
  {
   "cell_type": "code",
   "execution_count": 6,
   "id": "71270eea",
   "metadata": {},
   "outputs": [],
   "source": [
    "df_college = pd.read_csv(\"E:\\STUDY MATERIAL\\DATA SCIENCE\\machine learning and python\\project files\\Colleges.csv\", header=0)"
   ]
  },
  {
   "cell_type": "code",
   "execution_count": 7,
   "id": "139b8ca2",
   "metadata": {},
   "outputs": [
    {
     "data": {
      "text/html": [
       "<div>\n",
       "<style scoped>\n",
       "    .dataframe tbody tr th:only-of-type {\n",
       "        vertical-align: middle;\n",
       "    }\n",
       "\n",
       "    .dataframe tbody tr th {\n",
       "        vertical-align: top;\n",
       "    }\n",
       "\n",
       "    .dataframe thead th {\n",
       "        text-align: right;\n",
       "    }\n",
       "</style>\n",
       "<table border=\"1\" class=\"dataframe\">\n",
       "  <thead>\n",
       "    <tr style=\"text-align: right;\">\n",
       "      <th></th>\n",
       "      <th>Tier 1</th>\n",
       "      <th>Tier 2</th>\n",
       "      <th>Tier 3</th>\n",
       "    </tr>\n",
       "  </thead>\n",
       "  <tbody>\n",
       "    <tr>\n",
       "      <th>0</th>\n",
       "      <td>IIT Bombay</td>\n",
       "      <td>IIIT Bangalore</td>\n",
       "      <td>Ramaiah Institute of Technology, Bengaluru</td>\n",
       "    </tr>\n",
       "    <tr>\n",
       "      <th>1</th>\n",
       "      <td>IIT Delhi</td>\n",
       "      <td>IIIT Delhi</td>\n",
       "      <td>TIET/Thapar University</td>\n",
       "    </tr>\n",
       "    <tr>\n",
       "      <th>2</th>\n",
       "      <td>IIT Kharagpur</td>\n",
       "      <td>IGDTUW</td>\n",
       "      <td>Manipal Main Campus</td>\n",
       "    </tr>\n",
       "    <tr>\n",
       "      <th>3</th>\n",
       "      <td>IIT Madras</td>\n",
       "      <td>NIT Calicut</td>\n",
       "      <td>VIT Vellore</td>\n",
       "    </tr>\n",
       "    <tr>\n",
       "      <th>4</th>\n",
       "      <td>IIT Kanpur</td>\n",
       "      <td>IIITM Gwalior</td>\n",
       "      <td>SRM Main Campus</td>\n",
       "    </tr>\n",
       "  </tbody>\n",
       "</table>\n",
       "</div>"
      ],
      "text/plain": [
       "          Tier 1          Tier 2                                      Tier 3\n",
       "0     IIT Bombay  IIIT Bangalore  Ramaiah Institute of Technology, Bengaluru\n",
       "1      IIT Delhi      IIIT Delhi                      TIET/Thapar University\n",
       "2  IIT Kharagpur          IGDTUW                         Manipal Main Campus\n",
       "3     IIT Madras     NIT Calicut                                 VIT Vellore\n",
       "4     IIT Kanpur   IIITM Gwalior                             SRM Main Campus"
      ]
     },
     "execution_count": 7,
     "metadata": {},
     "output_type": "execute_result"
    }
   ],
   "source": [
    "#display the first few rows\n",
    "df_college.head()"
   ]
  },
  {
   "cell_type": "code",
   "execution_count": 8,
   "id": "9520093a",
   "metadata": {},
   "outputs": [],
   "source": [
    "df_college.rename(columns={'Tier 1': 'Tier_1', 'Tier 2': 'Tier_2', 'Tier 3': 'Tier_3'}, inplace=True)"
   ]
  },
  {
   "cell_type": "code",
   "execution_count": 9,
   "id": "2945e6a8",
   "metadata": {},
   "outputs": [],
   "source": [
    "# i have created the function to assign tier based on college name\n",
    "def tier(row):\n",
    "    if row['College'] in df_college['Tier_1'].values:\n",
    "        return 'Tier 1'\n",
    "    elif row['College'] in df_college['Tier_2'].values:\n",
    "        return 'Tier 2'\n",
    "    elif row['College'] in df_college['Tier_3'].values:\n",
    "        return 'Tier 3'\n",
    "    else:\n",
    "        return 'Unknown'"
   ]
  },
  {
   "cell_type": "code",
   "execution_count": 10,
   "id": "bc6eca52",
   "metadata": {},
   "outputs": [
    {
     "data": {
      "text/html": [
       "<div>\n",
       "<style scoped>\n",
       "    .dataframe tbody tr th:only-of-type {\n",
       "        vertical-align: middle;\n",
       "    }\n",
       "\n",
       "    .dataframe tbody tr th {\n",
       "        vertical-align: top;\n",
       "    }\n",
       "\n",
       "    .dataframe thead th {\n",
       "        text-align: right;\n",
       "    }\n",
       "</style>\n",
       "<table border=\"1\" class=\"dataframe\">\n",
       "  <thead>\n",
       "    <tr style=\"text-align: right;\">\n",
       "      <th></th>\n",
       "      <th>Tier_1</th>\n",
       "      <th>Tier_2</th>\n",
       "      <th>Tier_3</th>\n",
       "    </tr>\n",
       "  </thead>\n",
       "  <tbody>\n",
       "    <tr>\n",
       "      <th>0</th>\n",
       "      <td>IIT Bombay</td>\n",
       "      <td>IIIT Bangalore</td>\n",
       "      <td>Ramaiah Institute of Technology, Bengaluru</td>\n",
       "    </tr>\n",
       "    <tr>\n",
       "      <th>1</th>\n",
       "      <td>IIT Delhi</td>\n",
       "      <td>IIIT Delhi</td>\n",
       "      <td>TIET/Thapar University</td>\n",
       "    </tr>\n",
       "    <tr>\n",
       "      <th>2</th>\n",
       "      <td>IIT Kharagpur</td>\n",
       "      <td>IGDTUW</td>\n",
       "      <td>Manipal Main Campus</td>\n",
       "    </tr>\n",
       "    <tr>\n",
       "      <th>3</th>\n",
       "      <td>IIT Madras</td>\n",
       "      <td>NIT Calicut</td>\n",
       "      <td>VIT Vellore</td>\n",
       "    </tr>\n",
       "    <tr>\n",
       "      <th>4</th>\n",
       "      <td>IIT Kanpur</td>\n",
       "      <td>IIITM Gwalior</td>\n",
       "      <td>SRM Main Campus</td>\n",
       "    </tr>\n",
       "  </tbody>\n",
       "</table>\n",
       "</div>"
      ],
      "text/plain": [
       "          Tier_1          Tier_2                                      Tier_3\n",
       "0     IIT Bombay  IIIT Bangalore  Ramaiah Institute of Technology, Bengaluru\n",
       "1      IIT Delhi      IIIT Delhi                      TIET/Thapar University\n",
       "2  IIT Kharagpur          IGDTUW                         Manipal Main Campus\n",
       "3     IIT Madras     NIT Calicut                                 VIT Vellore\n",
       "4     IIT Kanpur   IIITM Gwalior                             SRM Main Campus"
      ]
     },
     "execution_count": 10,
     "metadata": {},
     "output_type": "execute_result"
    }
   ],
   "source": [
    "# Display the first few rows of the DataFrame for Colleges.csv\n",
    "df_college.head()"
   ]
  },
  {
   "cell_type": "code",
   "execution_count": 11,
   "id": "aa345581",
   "metadata": {},
   "outputs": [],
   "source": [
    "df = pd.read_csv(\"E:\\STUDY MATERIAL\\DATA SCIENCE\\machine learning and python\\project files\\ML case Study.csv\", header=0)"
   ]
  },
  {
   "cell_type": "code",
   "execution_count": 12,
   "id": "32fea1b0",
   "metadata": {},
   "outputs": [
    {
     "data": {
      "text/html": [
       "<div>\n",
       "<style scoped>\n",
       "    .dataframe tbody tr th:only-of-type {\n",
       "        vertical-align: middle;\n",
       "    }\n",
       "\n",
       "    .dataframe tbody tr th {\n",
       "        vertical-align: top;\n",
       "    }\n",
       "\n",
       "    .dataframe thead th {\n",
       "        text-align: right;\n",
       "    }\n",
       "</style>\n",
       "<table border=\"1\" class=\"dataframe\">\n",
       "  <thead>\n",
       "    <tr style=\"text-align: right;\">\n",
       "      <th></th>\n",
       "      <th>College</th>\n",
       "      <th>City</th>\n",
       "      <th>Role</th>\n",
       "      <th>Previous CTC</th>\n",
       "      <th>Previous job change</th>\n",
       "      <th>Graduation Marks</th>\n",
       "      <th>EXP (Month)</th>\n",
       "      <th>CTC</th>\n",
       "    </tr>\n",
       "  </thead>\n",
       "  <tbody>\n",
       "    <tr>\n",
       "      <th>0</th>\n",
       "      <td>SVNIT Surat</td>\n",
       "      <td>Asansol</td>\n",
       "      <td>Manager</td>\n",
       "      <td>55523.0</td>\n",
       "      <td>3</td>\n",
       "      <td>66</td>\n",
       "      <td>19</td>\n",
       "      <td>71406.58</td>\n",
       "    </tr>\n",
       "    <tr>\n",
       "      <th>1</th>\n",
       "      <td>NIT Bhopal</td>\n",
       "      <td>Ajmer</td>\n",
       "      <td>Executive</td>\n",
       "      <td>57081.0</td>\n",
       "      <td>1</td>\n",
       "      <td>84</td>\n",
       "      <td>18</td>\n",
       "      <td>68005.87</td>\n",
       "    </tr>\n",
       "    <tr>\n",
       "      <th>2</th>\n",
       "      <td>IEM, Kolkata</td>\n",
       "      <td>Rajpur Sonarpur</td>\n",
       "      <td>Executive</td>\n",
       "      <td>60347.0</td>\n",
       "      <td>2</td>\n",
       "      <td>52</td>\n",
       "      <td>28</td>\n",
       "      <td>76764.02</td>\n",
       "    </tr>\n",
       "    <tr>\n",
       "      <th>3</th>\n",
       "      <td>KIIT, Bhubaneswar</td>\n",
       "      <td>Ajmer</td>\n",
       "      <td>Executive</td>\n",
       "      <td>49010.0</td>\n",
       "      <td>2</td>\n",
       "      <td>81</td>\n",
       "      <td>33</td>\n",
       "      <td>82092.39</td>\n",
       "    </tr>\n",
       "    <tr>\n",
       "      <th>4</th>\n",
       "      <td>DTU</td>\n",
       "      <td>Durgapur</td>\n",
       "      <td>Executive</td>\n",
       "      <td>57879.0</td>\n",
       "      <td>4</td>\n",
       "      <td>74</td>\n",
       "      <td>32</td>\n",
       "      <td>73878.10</td>\n",
       "    </tr>\n",
       "  </tbody>\n",
       "</table>\n",
       "</div>"
      ],
      "text/plain": [
       "             College             City       Role  Previous CTC  \\\n",
       "0        SVNIT Surat          Asansol    Manager       55523.0   \n",
       "1         NIT Bhopal            Ajmer  Executive       57081.0   \n",
       "2       IEM, Kolkata  Rajpur Sonarpur  Executive       60347.0   \n",
       "3  KIIT, Bhubaneswar            Ajmer  Executive       49010.0   \n",
       "4                DTU         Durgapur  Executive       57879.0   \n",
       "\n",
       "   Previous job change  Graduation Marks  EXP (Month)       CTC  \n",
       "0                    3                66           19  71406.58  \n",
       "1                    1                84           18  68005.87  \n",
       "2                    2                52           28  76764.02  \n",
       "3                    2                81           33  82092.39  \n",
       "4                    4                74           32  73878.10  "
      ]
     },
     "execution_count": 12,
     "metadata": {},
     "output_type": "execute_result"
    }
   ],
   "source": [
    "\n",
    "df.head()"
   ]
  },
  {
   "cell_type": "code",
   "execution_count": 13,
   "id": "8d07c7da",
   "metadata": {},
   "outputs": [
    {
     "data": {
      "text/plain": [
       "(1589, 8)"
      ]
     },
     "execution_count": 13,
     "metadata": {},
     "output_type": "execute_result"
    }
   ],
   "source": [
    "#displaying the shape \n",
    "df.shape"
   ]
  },
  {
   "cell_type": "code",
   "execution_count": 14,
   "id": "80583917",
   "metadata": {},
   "outputs": [
    {
     "name": "stdout",
     "output_type": "stream",
     "text": [
      "0\n"
     ]
    }
   ],
   "source": [
    "# Printing the number of duplicate rows \n",
    "print(len(df[df.duplicated()]))"
   ]
  },
  {
   "cell_type": "code",
   "execution_count": 15,
   "id": "29b35ee1",
   "metadata": {},
   "outputs": [],
   "source": [
    "# applying the tier function to create a new tier column on the college column\n",
    "df['Tier'] = df.apply(tier, axis=1)\n",
    "\n",
    "# Applying the city function to create a new metro city column on the college column\n",
    "df['metro_city'] = df.apply(city, axis=1)"
   ]
  },
  {
   "cell_type": "code",
   "execution_count": 16,
   "id": "0787fb04",
   "metadata": {},
   "outputs": [
    {
     "data": {
      "text/html": [
       "<div>\n",
       "<style scoped>\n",
       "    .dataframe tbody tr th:only-of-type {\n",
       "        vertical-align: middle;\n",
       "    }\n",
       "\n",
       "    .dataframe tbody tr th {\n",
       "        vertical-align: top;\n",
       "    }\n",
       "\n",
       "    .dataframe thead th {\n",
       "        text-align: right;\n",
       "    }\n",
       "</style>\n",
       "<table border=\"1\" class=\"dataframe\">\n",
       "  <thead>\n",
       "    <tr style=\"text-align: right;\">\n",
       "      <th></th>\n",
       "      <th>College</th>\n",
       "      <th>City</th>\n",
       "      <th>Role</th>\n",
       "      <th>Previous CTC</th>\n",
       "      <th>Previous job change</th>\n",
       "      <th>Graduation Marks</th>\n",
       "      <th>EXP (Month)</th>\n",
       "      <th>CTC</th>\n",
       "      <th>Tier</th>\n",
       "      <th>metro_city</th>\n",
       "    </tr>\n",
       "  </thead>\n",
       "  <tbody>\n",
       "    <tr>\n",
       "      <th>0</th>\n",
       "      <td>SVNIT Surat</td>\n",
       "      <td>Asansol</td>\n",
       "      <td>Manager</td>\n",
       "      <td>55523.0</td>\n",
       "      <td>3</td>\n",
       "      <td>66</td>\n",
       "      <td>19</td>\n",
       "      <td>71406.58</td>\n",
       "      <td>Tier 2</td>\n",
       "      <td>0</td>\n",
       "    </tr>\n",
       "    <tr>\n",
       "      <th>1</th>\n",
       "      <td>NIT Bhopal</td>\n",
       "      <td>Ajmer</td>\n",
       "      <td>Executive</td>\n",
       "      <td>57081.0</td>\n",
       "      <td>1</td>\n",
       "      <td>84</td>\n",
       "      <td>18</td>\n",
       "      <td>68005.87</td>\n",
       "      <td>Tier 2</td>\n",
       "      <td>0</td>\n",
       "    </tr>\n",
       "    <tr>\n",
       "      <th>2</th>\n",
       "      <td>IEM, Kolkata</td>\n",
       "      <td>Rajpur Sonarpur</td>\n",
       "      <td>Executive</td>\n",
       "      <td>60347.0</td>\n",
       "      <td>2</td>\n",
       "      <td>52</td>\n",
       "      <td>28</td>\n",
       "      <td>76764.02</td>\n",
       "      <td>Tier 3</td>\n",
       "      <td>0</td>\n",
       "    </tr>\n",
       "    <tr>\n",
       "      <th>3</th>\n",
       "      <td>KIIT, Bhubaneswar</td>\n",
       "      <td>Ajmer</td>\n",
       "      <td>Executive</td>\n",
       "      <td>49010.0</td>\n",
       "      <td>2</td>\n",
       "      <td>81</td>\n",
       "      <td>33</td>\n",
       "      <td>82092.39</td>\n",
       "      <td>Tier 3</td>\n",
       "      <td>0</td>\n",
       "    </tr>\n",
       "    <tr>\n",
       "      <th>4</th>\n",
       "      <td>DTU</td>\n",
       "      <td>Durgapur</td>\n",
       "      <td>Executive</td>\n",
       "      <td>57879.0</td>\n",
       "      <td>4</td>\n",
       "      <td>74</td>\n",
       "      <td>32</td>\n",
       "      <td>73878.10</td>\n",
       "      <td>Tier 1</td>\n",
       "      <td>0</td>\n",
       "    </tr>\n",
       "  </tbody>\n",
       "</table>\n",
       "</div>"
      ],
      "text/plain": [
       "             College             City       Role  Previous CTC  \\\n",
       "0        SVNIT Surat          Asansol    Manager       55523.0   \n",
       "1         NIT Bhopal            Ajmer  Executive       57081.0   \n",
       "2       IEM, Kolkata  Rajpur Sonarpur  Executive       60347.0   \n",
       "3  KIIT, Bhubaneswar            Ajmer  Executive       49010.0   \n",
       "4                DTU         Durgapur  Executive       57879.0   \n",
       "\n",
       "   Previous job change  Graduation Marks  EXP (Month)       CTC    Tier  \\\n",
       "0                    3                66           19  71406.58  Tier 2   \n",
       "1                    1                84           18  68005.87  Tier 2   \n",
       "2                    2                52           28  76764.02  Tier 3   \n",
       "3                    2                81           33  82092.39  Tier 3   \n",
       "4                    4                74           32  73878.10  Tier 1   \n",
       "\n",
       "   metro_city  \n",
       "0           0  \n",
       "1           0  \n",
       "2           0  \n",
       "3           0  \n",
       "4           0  "
      ]
     },
     "execution_count": 16,
     "metadata": {},
     "output_type": "execute_result"
    }
   ],
   "source": [
    "df.head()"
   ]
  },
  {
   "cell_type": "code",
   "execution_count": 17,
   "id": "a046d210",
   "metadata": {},
   "outputs": [],
   "source": [
    "# Removing the unused column from the data frame\n",
    "del df['College']\n",
    "del df['City']"
   ]
  },
  {
   "cell_type": "code",
   "execution_count": 18,
   "id": "58d6012b",
   "metadata": {},
   "outputs": [],
   "source": [
    "# Creating dummy variables for the 'Tier' and 'Role' columns\n",
    "df = pd.get_dummies(df, columns=['Tier', 'Role'])"
   ]
  },
  {
   "cell_type": "code",
   "execution_count": 19,
   "id": "b7b5d96a",
   "metadata": {},
   "outputs": [
    {
     "data": {
      "text/html": [
       "<div>\n",
       "<style scoped>\n",
       "    .dataframe tbody tr th:only-of-type {\n",
       "        vertical-align: middle;\n",
       "    }\n",
       "\n",
       "    .dataframe tbody tr th {\n",
       "        vertical-align: top;\n",
       "    }\n",
       "\n",
       "    .dataframe thead th {\n",
       "        text-align: right;\n",
       "    }\n",
       "</style>\n",
       "<table border=\"1\" class=\"dataframe\">\n",
       "  <thead>\n",
       "    <tr style=\"text-align: right;\">\n",
       "      <th></th>\n",
       "      <th>Previous CTC</th>\n",
       "      <th>Previous job change</th>\n",
       "      <th>Graduation Marks</th>\n",
       "      <th>EXP (Month)</th>\n",
       "      <th>CTC</th>\n",
       "      <th>metro_city</th>\n",
       "      <th>Tier_Tier 1</th>\n",
       "      <th>Tier_Tier 2</th>\n",
       "      <th>Tier_Tier 3</th>\n",
       "      <th>Role_Executive</th>\n",
       "      <th>Role_Manager</th>\n",
       "    </tr>\n",
       "  </thead>\n",
       "  <tbody>\n",
       "    <tr>\n",
       "      <th>0</th>\n",
       "      <td>55523.0</td>\n",
       "      <td>3</td>\n",
       "      <td>66</td>\n",
       "      <td>19</td>\n",
       "      <td>71406.58</td>\n",
       "      <td>0</td>\n",
       "      <td>False</td>\n",
       "      <td>True</td>\n",
       "      <td>False</td>\n",
       "      <td>False</td>\n",
       "      <td>True</td>\n",
       "    </tr>\n",
       "    <tr>\n",
       "      <th>1</th>\n",
       "      <td>57081.0</td>\n",
       "      <td>1</td>\n",
       "      <td>84</td>\n",
       "      <td>18</td>\n",
       "      <td>68005.87</td>\n",
       "      <td>0</td>\n",
       "      <td>False</td>\n",
       "      <td>True</td>\n",
       "      <td>False</td>\n",
       "      <td>True</td>\n",
       "      <td>False</td>\n",
       "    </tr>\n",
       "    <tr>\n",
       "      <th>2</th>\n",
       "      <td>60347.0</td>\n",
       "      <td>2</td>\n",
       "      <td>52</td>\n",
       "      <td>28</td>\n",
       "      <td>76764.02</td>\n",
       "      <td>0</td>\n",
       "      <td>False</td>\n",
       "      <td>False</td>\n",
       "      <td>True</td>\n",
       "      <td>True</td>\n",
       "      <td>False</td>\n",
       "    </tr>\n",
       "    <tr>\n",
       "      <th>3</th>\n",
       "      <td>49010.0</td>\n",
       "      <td>2</td>\n",
       "      <td>81</td>\n",
       "      <td>33</td>\n",
       "      <td>82092.39</td>\n",
       "      <td>0</td>\n",
       "      <td>False</td>\n",
       "      <td>False</td>\n",
       "      <td>True</td>\n",
       "      <td>True</td>\n",
       "      <td>False</td>\n",
       "    </tr>\n",
       "    <tr>\n",
       "      <th>4</th>\n",
       "      <td>57879.0</td>\n",
       "      <td>4</td>\n",
       "      <td>74</td>\n",
       "      <td>32</td>\n",
       "      <td>73878.10</td>\n",
       "      <td>0</td>\n",
       "      <td>True</td>\n",
       "      <td>False</td>\n",
       "      <td>False</td>\n",
       "      <td>True</td>\n",
       "      <td>False</td>\n",
       "    </tr>\n",
       "  </tbody>\n",
       "</table>\n",
       "</div>"
      ],
      "text/plain": [
       "   Previous CTC  Previous job change  Graduation Marks  EXP (Month)       CTC  \\\n",
       "0       55523.0                    3                66           19  71406.58   \n",
       "1       57081.0                    1                84           18  68005.87   \n",
       "2       60347.0                    2                52           28  76764.02   \n",
       "3       49010.0                    2                81           33  82092.39   \n",
       "4       57879.0                    4                74           32  73878.10   \n",
       "\n",
       "   metro_city  Tier_Tier 1  Tier_Tier 2  Tier_Tier 3  Role_Executive  \\\n",
       "0           0        False         True        False           False   \n",
       "1           0        False         True        False            True   \n",
       "2           0        False        False         True            True   \n",
       "3           0        False        False         True            True   \n",
       "4           0         True        False        False            True   \n",
       "\n",
       "   Role_Manager  \n",
       "0          True  \n",
       "1         False  \n",
       "2         False  \n",
       "3         False  \n",
       "4         False  "
      ]
     },
     "execution_count": 19,
     "metadata": {},
     "output_type": "execute_result"
    }
   ],
   "source": [
    "df.head()"
   ]
  },
  {
   "cell_type": "code",
   "execution_count": 20,
   "id": "ab2c4ba4",
   "metadata": {},
   "outputs": [],
   "source": [
    "# Renaming columns \n",
    "df.rename(columns={'Tier_Tier 1': 'Tier_1', 'Tier_Tier 2': 'Tier_2', 'Tier_Tier 3': 'Tier_3'}, inplace=True)"
   ]
  },
  {
   "cell_type": "code",
   "execution_count": 21,
   "id": "5a0478fb",
   "metadata": {},
   "outputs": [
    {
     "data": {
      "text/html": [
       "<div>\n",
       "<style scoped>\n",
       "    .dataframe tbody tr th:only-of-type {\n",
       "        vertical-align: middle;\n",
       "    }\n",
       "\n",
       "    .dataframe tbody tr th {\n",
       "        vertical-align: top;\n",
       "    }\n",
       "\n",
       "    .dataframe thead th {\n",
       "        text-align: right;\n",
       "    }\n",
       "</style>\n",
       "<table border=\"1\" class=\"dataframe\">\n",
       "  <thead>\n",
       "    <tr style=\"text-align: right;\">\n",
       "      <th></th>\n",
       "      <th>Previous CTC</th>\n",
       "      <th>Previous job change</th>\n",
       "      <th>Graduation Marks</th>\n",
       "      <th>EXP (Month)</th>\n",
       "      <th>CTC</th>\n",
       "      <th>metro_city</th>\n",
       "      <th>Tier_1</th>\n",
       "      <th>Tier_2</th>\n",
       "      <th>Tier_3</th>\n",
       "      <th>Role_Executive</th>\n",
       "      <th>Role_Manager</th>\n",
       "    </tr>\n",
       "  </thead>\n",
       "  <tbody>\n",
       "    <tr>\n",
       "      <th>0</th>\n",
       "      <td>55523.0</td>\n",
       "      <td>3</td>\n",
       "      <td>66</td>\n",
       "      <td>19</td>\n",
       "      <td>71406.58</td>\n",
       "      <td>0</td>\n",
       "      <td>False</td>\n",
       "      <td>True</td>\n",
       "      <td>False</td>\n",
       "      <td>False</td>\n",
       "      <td>True</td>\n",
       "    </tr>\n",
       "    <tr>\n",
       "      <th>1</th>\n",
       "      <td>57081.0</td>\n",
       "      <td>1</td>\n",
       "      <td>84</td>\n",
       "      <td>18</td>\n",
       "      <td>68005.87</td>\n",
       "      <td>0</td>\n",
       "      <td>False</td>\n",
       "      <td>True</td>\n",
       "      <td>False</td>\n",
       "      <td>True</td>\n",
       "      <td>False</td>\n",
       "    </tr>\n",
       "    <tr>\n",
       "      <th>2</th>\n",
       "      <td>60347.0</td>\n",
       "      <td>2</td>\n",
       "      <td>52</td>\n",
       "      <td>28</td>\n",
       "      <td>76764.02</td>\n",
       "      <td>0</td>\n",
       "      <td>False</td>\n",
       "      <td>False</td>\n",
       "      <td>True</td>\n",
       "      <td>True</td>\n",
       "      <td>False</td>\n",
       "    </tr>\n",
       "    <tr>\n",
       "      <th>3</th>\n",
       "      <td>49010.0</td>\n",
       "      <td>2</td>\n",
       "      <td>81</td>\n",
       "      <td>33</td>\n",
       "      <td>82092.39</td>\n",
       "      <td>0</td>\n",
       "      <td>False</td>\n",
       "      <td>False</td>\n",
       "      <td>True</td>\n",
       "      <td>True</td>\n",
       "      <td>False</td>\n",
       "    </tr>\n",
       "    <tr>\n",
       "      <th>4</th>\n",
       "      <td>57879.0</td>\n",
       "      <td>4</td>\n",
       "      <td>74</td>\n",
       "      <td>32</td>\n",
       "      <td>73878.10</td>\n",
       "      <td>0</td>\n",
       "      <td>True</td>\n",
       "      <td>False</td>\n",
       "      <td>False</td>\n",
       "      <td>True</td>\n",
       "      <td>False</td>\n",
       "    </tr>\n",
       "  </tbody>\n",
       "</table>\n",
       "</div>"
      ],
      "text/plain": [
       "   Previous CTC  Previous job change  Graduation Marks  EXP (Month)       CTC  \\\n",
       "0       55523.0                    3                66           19  71406.58   \n",
       "1       57081.0                    1                84           18  68005.87   \n",
       "2       60347.0                    2                52           28  76764.02   \n",
       "3       49010.0                    2                81           33  82092.39   \n",
       "4       57879.0                    4                74           32  73878.10   \n",
       "\n",
       "   metro_city  Tier_1  Tier_2  Tier_3  Role_Executive  Role_Manager  \n",
       "0           0   False    True   False           False          True  \n",
       "1           0   False    True   False            True         False  \n",
       "2           0   False   False    True            True         False  \n",
       "3           0   False   False    True            True         False  \n",
       "4           0    True   False   False            True         False  "
      ]
     },
     "execution_count": 21,
     "metadata": {},
     "output_type": "execute_result"
    }
   ],
   "source": [
    "df.head()"
   ]
  },
  {
   "cell_type": "code",
   "execution_count": 22,
   "id": "c05f932b",
   "metadata": {},
   "outputs": [],
   "source": [
    "# Converting categorical columns to numerical format\n",
    "df['Tier_1'] = df['Tier_1'].astype(int)\n",
    "df['Tier_2'] = df['Tier_2'].astype(int)\n",
    "df['Tier_3'] = df['Tier_3'].astype(int)\n",
    "df['Role_Executive'] = df['Role_Executive'].astype(int)\n",
    "df['Role_Manager'] = df['Role_Manager'].astype(int)"
   ]
  },
  {
   "cell_type": "code",
   "execution_count": 23,
   "id": "3f65e284",
   "metadata": {},
   "outputs": [
    {
     "data": {
      "text/html": [
       "<div>\n",
       "<style scoped>\n",
       "    .dataframe tbody tr th:only-of-type {\n",
       "        vertical-align: middle;\n",
       "    }\n",
       "\n",
       "    .dataframe tbody tr th {\n",
       "        vertical-align: top;\n",
       "    }\n",
       "\n",
       "    .dataframe thead th {\n",
       "        text-align: right;\n",
       "    }\n",
       "</style>\n",
       "<table border=\"1\" class=\"dataframe\">\n",
       "  <thead>\n",
       "    <tr style=\"text-align: right;\">\n",
       "      <th></th>\n",
       "      <th>Previous CTC</th>\n",
       "      <th>Previous job change</th>\n",
       "      <th>Graduation Marks</th>\n",
       "      <th>EXP (Month)</th>\n",
       "      <th>CTC</th>\n",
       "      <th>metro_city</th>\n",
       "      <th>Tier_1</th>\n",
       "      <th>Tier_2</th>\n",
       "      <th>Tier_3</th>\n",
       "      <th>Role_Executive</th>\n",
       "      <th>Role_Manager</th>\n",
       "    </tr>\n",
       "  </thead>\n",
       "  <tbody>\n",
       "    <tr>\n",
       "      <th>0</th>\n",
       "      <td>55523.0</td>\n",
       "      <td>3</td>\n",
       "      <td>66</td>\n",
       "      <td>19</td>\n",
       "      <td>71406.58</td>\n",
       "      <td>0</td>\n",
       "      <td>0</td>\n",
       "      <td>1</td>\n",
       "      <td>0</td>\n",
       "      <td>0</td>\n",
       "      <td>1</td>\n",
       "    </tr>\n",
       "    <tr>\n",
       "      <th>1</th>\n",
       "      <td>57081.0</td>\n",
       "      <td>1</td>\n",
       "      <td>84</td>\n",
       "      <td>18</td>\n",
       "      <td>68005.87</td>\n",
       "      <td>0</td>\n",
       "      <td>0</td>\n",
       "      <td>1</td>\n",
       "      <td>0</td>\n",
       "      <td>1</td>\n",
       "      <td>0</td>\n",
       "    </tr>\n",
       "    <tr>\n",
       "      <th>2</th>\n",
       "      <td>60347.0</td>\n",
       "      <td>2</td>\n",
       "      <td>52</td>\n",
       "      <td>28</td>\n",
       "      <td>76764.02</td>\n",
       "      <td>0</td>\n",
       "      <td>0</td>\n",
       "      <td>0</td>\n",
       "      <td>1</td>\n",
       "      <td>1</td>\n",
       "      <td>0</td>\n",
       "    </tr>\n",
       "    <tr>\n",
       "      <th>3</th>\n",
       "      <td>49010.0</td>\n",
       "      <td>2</td>\n",
       "      <td>81</td>\n",
       "      <td>33</td>\n",
       "      <td>82092.39</td>\n",
       "      <td>0</td>\n",
       "      <td>0</td>\n",
       "      <td>0</td>\n",
       "      <td>1</td>\n",
       "      <td>1</td>\n",
       "      <td>0</td>\n",
       "    </tr>\n",
       "    <tr>\n",
       "      <th>4</th>\n",
       "      <td>57879.0</td>\n",
       "      <td>4</td>\n",
       "      <td>74</td>\n",
       "      <td>32</td>\n",
       "      <td>73878.10</td>\n",
       "      <td>0</td>\n",
       "      <td>1</td>\n",
       "      <td>0</td>\n",
       "      <td>0</td>\n",
       "      <td>1</td>\n",
       "      <td>0</td>\n",
       "    </tr>\n",
       "  </tbody>\n",
       "</table>\n",
       "</div>"
      ],
      "text/plain": [
       "   Previous CTC  Previous job change  Graduation Marks  EXP (Month)       CTC  \\\n",
       "0       55523.0                    3                66           19  71406.58   \n",
       "1       57081.0                    1                84           18  68005.87   \n",
       "2       60347.0                    2                52           28  76764.02   \n",
       "3       49010.0                    2                81           33  82092.39   \n",
       "4       57879.0                    4                74           32  73878.10   \n",
       "\n",
       "   metro_city  Tier_1  Tier_2  Tier_3  Role_Executive  Role_Manager  \n",
       "0           0       0       1       0               0             1  \n",
       "1           0       0       1       0               1             0  \n",
       "2           0       0       0       1               1             0  \n",
       "3           0       0       0       1               1             0  \n",
       "4           0       1       0       0               1             0  "
      ]
     },
     "execution_count": 23,
     "metadata": {},
     "output_type": "execute_result"
    }
   ],
   "source": [
    "df.head()"
   ]
  },
  {
   "cell_type": "code",
   "execution_count": 24,
   "id": "aa970a38",
   "metadata": {},
   "outputs": [
    {
     "data": {
      "text/plain": [
       "(1589, 11)"
      ]
     },
     "execution_count": 24,
     "metadata": {},
     "output_type": "execute_result"
    }
   ],
   "source": [
    "df.shape"
   ]
  },
  {
   "cell_type": "code",
   "execution_count": 25,
   "id": "c8fc47df",
   "metadata": {},
   "outputs": [
    {
     "name": "stdout",
     "output_type": "stream",
     "text": [
      "<class 'pandas.core.frame.DataFrame'>\n",
      "RangeIndex: 1589 entries, 0 to 1588\n",
      "Data columns (total 11 columns):\n",
      " #   Column               Non-Null Count  Dtype  \n",
      "---  ------               --------------  -----  \n",
      " 0   Previous CTC         1589 non-null   float64\n",
      " 1   Previous job change  1589 non-null   int64  \n",
      " 2   Graduation Marks     1589 non-null   int64  \n",
      " 3   EXP (Month)          1589 non-null   int64  \n",
      " 4   CTC                  1589 non-null   float64\n",
      " 5   metro_city           1589 non-null   int64  \n",
      " 6   Tier_1               1589 non-null   int32  \n",
      " 7   Tier_2               1589 non-null   int32  \n",
      " 8   Tier_3               1589 non-null   int32  \n",
      " 9   Role_Executive       1589 non-null   int32  \n",
      " 10  Role_Manager         1589 non-null   int32  \n",
      "dtypes: float64(2), int32(5), int64(4)\n",
      "memory usage: 105.6 KB\n"
     ]
    }
   ],
   "source": [
    "df.info()"
   ]
  },
  {
   "cell_type": "markdown",
   "id": "8ce55dfc",
   "metadata": {},
   "source": [
    "no null values find\n"
   ]
  },
  {
   "cell_type": "code",
   "execution_count": 26,
   "id": "03ed65e7",
   "metadata": {},
   "outputs": [
    {
     "data": {
      "text/html": [
       "<div>\n",
       "<style scoped>\n",
       "    .dataframe tbody tr th:only-of-type {\n",
       "        vertical-align: middle;\n",
       "    }\n",
       "\n",
       "    .dataframe tbody tr th {\n",
       "        vertical-align: top;\n",
       "    }\n",
       "\n",
       "    .dataframe thead th {\n",
       "        text-align: right;\n",
       "    }\n",
       "</style>\n",
       "<table border=\"1\" class=\"dataframe\">\n",
       "  <thead>\n",
       "    <tr style=\"text-align: right;\">\n",
       "      <th></th>\n",
       "      <th>Previous CTC</th>\n",
       "      <th>Previous job change</th>\n",
       "      <th>Graduation Marks</th>\n",
       "      <th>EXP (Month)</th>\n",
       "      <th>CTC</th>\n",
       "      <th>metro_city</th>\n",
       "      <th>Tier_1</th>\n",
       "      <th>Tier_2</th>\n",
       "      <th>Tier_3</th>\n",
       "      <th>Role_Executive</th>\n",
       "      <th>Role_Manager</th>\n",
       "    </tr>\n",
       "  </thead>\n",
       "  <tbody>\n",
       "    <tr>\n",
       "      <th>count</th>\n",
       "      <td>1589.000000</td>\n",
       "      <td>1589.000000</td>\n",
       "      <td>1589.000000</td>\n",
       "      <td>1589.000000</td>\n",
       "      <td>1589.000000</td>\n",
       "      <td>1589.000000</td>\n",
       "      <td>1589.000000</td>\n",
       "      <td>1589.000000</td>\n",
       "      <td>1589.000000</td>\n",
       "      <td>1589.000000</td>\n",
       "      <td>1589.000000</td>\n",
       "    </tr>\n",
       "    <tr>\n",
       "      <th>mean</th>\n",
       "      <td>55518.453744</td>\n",
       "      <td>2.528634</td>\n",
       "      <td>59.855255</td>\n",
       "      <td>39.044682</td>\n",
       "      <td>75353.278798</td>\n",
       "      <td>0.514160</td>\n",
       "      <td>0.363751</td>\n",
       "      <td>0.297042</td>\n",
       "      <td>0.339207</td>\n",
       "      <td>0.793581</td>\n",
       "      <td>0.206419</td>\n",
       "    </tr>\n",
       "    <tr>\n",
       "      <th>std</th>\n",
       "      <td>6655.218445</td>\n",
       "      <td>1.123918</td>\n",
       "      <td>14.935139</td>\n",
       "      <td>14.108875</td>\n",
       "      <td>12587.288237</td>\n",
       "      <td>0.499957</td>\n",
       "      <td>0.481230</td>\n",
       "      <td>0.457099</td>\n",
       "      <td>0.473589</td>\n",
       "      <td>0.404862</td>\n",
       "      <td>0.404862</td>\n",
       "    </tr>\n",
       "    <tr>\n",
       "      <th>min</th>\n",
       "      <td>36990.000000</td>\n",
       "      <td>1.000000</td>\n",
       "      <td>35.000000</td>\n",
       "      <td>18.000000</td>\n",
       "      <td>53020.320000</td>\n",
       "      <td>0.000000</td>\n",
       "      <td>0.000000</td>\n",
       "      <td>0.000000</td>\n",
       "      <td>0.000000</td>\n",
       "      <td>0.000000</td>\n",
       "      <td>0.000000</td>\n",
       "    </tr>\n",
       "    <tr>\n",
       "      <th>25%</th>\n",
       "      <td>50518.000000</td>\n",
       "      <td>2.000000</td>\n",
       "      <td>46.000000</td>\n",
       "      <td>26.000000</td>\n",
       "      <td>66902.350000</td>\n",
       "      <td>0.000000</td>\n",
       "      <td>0.000000</td>\n",
       "      <td>0.000000</td>\n",
       "      <td>0.000000</td>\n",
       "      <td>1.000000</td>\n",
       "      <td>0.000000</td>\n",
       "    </tr>\n",
       "    <tr>\n",
       "      <th>50%</th>\n",
       "      <td>55291.000000</td>\n",
       "      <td>3.000000</td>\n",
       "      <td>60.000000</td>\n",
       "      <td>39.000000</td>\n",
       "      <td>73028.670000</td>\n",
       "      <td>1.000000</td>\n",
       "      <td>0.000000</td>\n",
       "      <td>0.000000</td>\n",
       "      <td>0.000000</td>\n",
       "      <td>1.000000</td>\n",
       "      <td>0.000000</td>\n",
       "    </tr>\n",
       "    <tr>\n",
       "      <th>75%</th>\n",
       "      <td>60109.000000</td>\n",
       "      <td>4.000000</td>\n",
       "      <td>73.000000</td>\n",
       "      <td>51.000000</td>\n",
       "      <td>80588.670000</td>\n",
       "      <td>1.000000</td>\n",
       "      <td>1.000000</td>\n",
       "      <td>1.000000</td>\n",
       "      <td>1.000000</td>\n",
       "      <td>1.000000</td>\n",
       "      <td>0.000000</td>\n",
       "    </tr>\n",
       "    <tr>\n",
       "      <th>max</th>\n",
       "      <td>77911.000000</td>\n",
       "      <td>4.000000</td>\n",
       "      <td>85.000000</td>\n",
       "      <td>64.000000</td>\n",
       "      <td>123416.990000</td>\n",
       "      <td>1.000000</td>\n",
       "      <td>1.000000</td>\n",
       "      <td>1.000000</td>\n",
       "      <td>1.000000</td>\n",
       "      <td>1.000000</td>\n",
       "      <td>1.000000</td>\n",
       "    </tr>\n",
       "  </tbody>\n",
       "</table>\n",
       "</div>"
      ],
      "text/plain": [
       "       Previous CTC  Previous job change  Graduation Marks  EXP (Month)  \\\n",
       "count   1589.000000          1589.000000       1589.000000  1589.000000   \n",
       "mean   55518.453744             2.528634         59.855255    39.044682   \n",
       "std     6655.218445             1.123918         14.935139    14.108875   \n",
       "min    36990.000000             1.000000         35.000000    18.000000   \n",
       "25%    50518.000000             2.000000         46.000000    26.000000   \n",
       "50%    55291.000000             3.000000         60.000000    39.000000   \n",
       "75%    60109.000000             4.000000         73.000000    51.000000   \n",
       "max    77911.000000             4.000000         85.000000    64.000000   \n",
       "\n",
       "                 CTC   metro_city       Tier_1       Tier_2       Tier_3  \\\n",
       "count    1589.000000  1589.000000  1589.000000  1589.000000  1589.000000   \n",
       "mean    75353.278798     0.514160     0.363751     0.297042     0.339207   \n",
       "std     12587.288237     0.499957     0.481230     0.457099     0.473589   \n",
       "min     53020.320000     0.000000     0.000000     0.000000     0.000000   \n",
       "25%     66902.350000     0.000000     0.000000     0.000000     0.000000   \n",
       "50%     73028.670000     1.000000     0.000000     0.000000     0.000000   \n",
       "75%     80588.670000     1.000000     1.000000     1.000000     1.000000   \n",
       "max    123416.990000     1.000000     1.000000     1.000000     1.000000   \n",
       "\n",
       "       Role_Executive  Role_Manager  \n",
       "count     1589.000000   1589.000000  \n",
       "mean         0.793581      0.206419  \n",
       "std          0.404862      0.404862  \n",
       "min          0.000000      0.000000  \n",
       "25%          1.000000      0.000000  \n",
       "50%          1.000000      0.000000  \n",
       "75%          1.000000      0.000000  \n",
       "max          1.000000      1.000000  "
      ]
     },
     "execution_count": 26,
     "metadata": {},
     "output_type": "execute_result"
    }
   ],
   "source": [
    "df.describe()"
   ]
  },
  {
   "cell_type": "code",
   "execution_count": 27,
   "id": "393ea173",
   "metadata": {},
   "outputs": [
    {
     "name": "stderr",
     "output_type": "stream",
     "text": [
      "C:\\Users\\RAJ\\AppData\\Local\\Temp\\ipykernel_19276\\3892617723.py:1: UserWarning: \n",
      "\n",
      "`distplot` is a deprecated function and will be removed in seaborn v0.14.0.\n",
      "\n",
      "Please adapt your code to use either `displot` (a figure-level function with\n",
      "similar flexibility) or `histplot` (an axes-level function for histograms).\n",
      "\n",
      "For a guide to updating your code to use the new functions, please see\n",
      "https://gist.github.com/mwaskom/de44147ed2974457ad6372750bbe5751\n",
      "\n",
      "  sns.distplot(df['CTC'], color='blue')\n"
     ]
    },
    {
     "data": {
      "text/plain": [
       "<Axes: xlabel='CTC', ylabel='Density'>"
      ]
     },
     "execution_count": 27,
     "metadata": {},
     "output_type": "execute_result"
    },
    {
     "data": {
      "image/png": "[encoded data removed]",
      "text/plain": [
       "<Figure size 640x480 with 1 Axes>"
      ]
     },
     "metadata": {},
     "output_type": "display_data"
    }
   ],
   "source": [
    "\n",
    "sns.distplot(df['CTC'], color='blue')"
   ]
  },
  {
   "cell_type": "code",
   "execution_count": 28,
   "id": "18ab20e9",
   "metadata": {},
   "outputs": [
    {
     "data": {
      "text/plain": [
       "<seaborn.axisgrid.JointGrid at 0x20498ddd790>"
      ]
     },
     "execution_count": 28,
     "metadata": {},
     "output_type": "execute_result"
    },
    {
     "data": {
      "image/png": "[encoded data removed]",
      "text/plain": [
       "<Figure size 600x600 with 3 Axes>"
      ]
     },
     "metadata": {},
     "output_type": "display_data"
    }
   ],
   "source": [
    "# Create a joint plot between 'Previous CTC' and 'CTC'\n",
    "sns.jointplot(x='Previous CTC', y='CTC', data=df, color=\"blue\")"
   ]
  },
  {
   "cell_type": "code",
   "execution_count": 29,
   "id": "11b35f0d",
   "metadata": {},
   "outputs": [
    {
     "data": {
      "image/png": "[encoded data removed]",
      "text/plain": [
       "<Figure size 1200x600 with 4 Axes>"
      ]
     },
     "metadata": {},
     "output_type": "display_data"
    }
   ],
   "source": [
    "# i am using boxplot for checking the outliners  \n",
    "import matplotlib.pyplot as plt\n",
    "\n",
    "# Specify numerical columns\n",
    "num_col = ['Previous CTC', 'Graduation Marks', 'EXP (Month)', 'CTC']\n",
    "\n",
    "# Create a figure with subplots\n",
    "plt.figure(figsize=(12, 6))\n",
    "plt.subplots_adjust(wspace=0.5)\n",
    "\n",
    "for i, col in enumerate(num_col, 1):\n",
    "    plt.subplot(2, 2, i)\n",
    "    sns.boxplot(data=df, y=col, color='blue')\n",
    "\n",
    "\n",
    "plt.show()"
   ]
  },
  {
   "cell_type": "code",
   "execution_count": 30,
   "id": "65d7ae5d",
   "metadata": {},
   "outputs": [
    {
     "name": "stdout",
     "output_type": "stream",
     "text": [
      "71506.92\n"
     ]
    }
   ],
   "source": [
    "# Calculate the 99th percentile of 'Previous CTC'\n",
    "upper_limit = np.percentile(df['Previous CTC'], [99])[0]\n",
    "\n",
    "# to find  upper limit\n",
    "print(upper_limit)"
   ]
  },
  {
   "cell_type": "code",
   "execution_count": 31,
   "id": "6194f375",
   "metadata": {},
   "outputs": [
    {
     "data": {
      "text/html": [
       "<div>\n",
       "<style scoped>\n",
       "    .dataframe tbody tr th:only-of-type {\n",
       "        vertical-align: middle;\n",
       "    }\n",
       "\n",
       "    .dataframe tbody tr th {\n",
       "        vertical-align: top;\n",
       "    }\n",
       "\n",
       "    .dataframe thead th {\n",
       "        text-align: right;\n",
       "    }\n",
       "</style>\n",
       "<table border=\"1\" class=\"dataframe\">\n",
       "  <thead>\n",
       "    <tr style=\"text-align: right;\">\n",
       "      <th></th>\n",
       "      <th>Previous CTC</th>\n",
       "      <th>Previous job change</th>\n",
       "      <th>Graduation Marks</th>\n",
       "      <th>EXP (Month)</th>\n",
       "      <th>CTC</th>\n",
       "      <th>metro_city</th>\n",
       "      <th>Tier_1</th>\n",
       "      <th>Tier_2</th>\n",
       "      <th>Tier_3</th>\n",
       "      <th>Role_Executive</th>\n",
       "      <th>Role_Manager</th>\n",
       "    </tr>\n",
       "  </thead>\n",
       "  <tbody>\n",
       "    <tr>\n",
       "      <th>116</th>\n",
       "      <td>77911.0</td>\n",
       "      <td>1</td>\n",
       "      <td>50</td>\n",
       "      <td>58</td>\n",
       "      <td>87831.62</td>\n",
       "      <td>1</td>\n",
       "      <td>0</td>\n",
       "      <td>0</td>\n",
       "      <td>1</td>\n",
       "      <td>1</td>\n",
       "      <td>0</td>\n",
       "    </tr>\n",
       "    <tr>\n",
       "      <th>292</th>\n",
       "      <td>74198.0</td>\n",
       "      <td>1</td>\n",
       "      <td>57</td>\n",
       "      <td>25</td>\n",
       "      <td>99644.51</td>\n",
       "      <td>0</td>\n",
       "      <td>0</td>\n",
       "      <td>0</td>\n",
       "      <td>1</td>\n",
       "      <td>0</td>\n",
       "      <td>1</td>\n",
       "    </tr>\n",
       "    <tr>\n",
       "      <th>543</th>\n",
       "      <td>73856.0</td>\n",
       "      <td>1</td>\n",
       "      <td>75</td>\n",
       "      <td>54</td>\n",
       "      <td>121362.73</td>\n",
       "      <td>1</td>\n",
       "      <td>1</td>\n",
       "      <td>0</td>\n",
       "      <td>0</td>\n",
       "      <td>0</td>\n",
       "      <td>1</td>\n",
       "    </tr>\n",
       "    <tr>\n",
       "      <th>572</th>\n",
       "      <td>71543.0</td>\n",
       "      <td>4</td>\n",
       "      <td>82</td>\n",
       "      <td>30</td>\n",
       "      <td>61366.78</td>\n",
       "      <td>1</td>\n",
       "      <td>1</td>\n",
       "      <td>0</td>\n",
       "      <td>0</td>\n",
       "      <td>1</td>\n",
       "      <td>0</td>\n",
       "    </tr>\n",
       "    <tr>\n",
       "      <th>701</th>\n",
       "      <td>71549.0</td>\n",
       "      <td>4</td>\n",
       "      <td>47</td>\n",
       "      <td>50</td>\n",
       "      <td>83116.21</td>\n",
       "      <td>0</td>\n",
       "      <td>0</td>\n",
       "      <td>1</td>\n",
       "      <td>0</td>\n",
       "      <td>1</td>\n",
       "      <td>0</td>\n",
       "    </tr>\n",
       "    <tr>\n",
       "      <th>847</th>\n",
       "      <td>71756.0</td>\n",
       "      <td>4</td>\n",
       "      <td>67</td>\n",
       "      <td>23</td>\n",
       "      <td>72141.43</td>\n",
       "      <td>1</td>\n",
       "      <td>1</td>\n",
       "      <td>0</td>\n",
       "      <td>0</td>\n",
       "      <td>1</td>\n",
       "      <td>0</td>\n",
       "    </tr>\n",
       "    <tr>\n",
       "      <th>860</th>\n",
       "      <td>75785.0</td>\n",
       "      <td>4</td>\n",
       "      <td>63</td>\n",
       "      <td>37</td>\n",
       "      <td>110338.25</td>\n",
       "      <td>1</td>\n",
       "      <td>1</td>\n",
       "      <td>0</td>\n",
       "      <td>0</td>\n",
       "      <td>0</td>\n",
       "      <td>1</td>\n",
       "    </tr>\n",
       "    <tr>\n",
       "      <th>941</th>\n",
       "      <td>72319.0</td>\n",
       "      <td>1</td>\n",
       "      <td>51</td>\n",
       "      <td>50</td>\n",
       "      <td>63538.43</td>\n",
       "      <td>1</td>\n",
       "      <td>0</td>\n",
       "      <td>0</td>\n",
       "      <td>1</td>\n",
       "      <td>1</td>\n",
       "      <td>0</td>\n",
       "    </tr>\n",
       "    <tr>\n",
       "      <th>1024</th>\n",
       "      <td>72661.0</td>\n",
       "      <td>3</td>\n",
       "      <td>74</td>\n",
       "      <td>47</td>\n",
       "      <td>70238.70</td>\n",
       "      <td>1</td>\n",
       "      <td>1</td>\n",
       "      <td>0</td>\n",
       "      <td>0</td>\n",
       "      <td>1</td>\n",
       "      <td>0</td>\n",
       "    </tr>\n",
       "    <tr>\n",
       "      <th>1047</th>\n",
       "      <td>73214.0</td>\n",
       "      <td>4</td>\n",
       "      <td>57</td>\n",
       "      <td>22</td>\n",
       "      <td>100119.53</td>\n",
       "      <td>0</td>\n",
       "      <td>1</td>\n",
       "      <td>0</td>\n",
       "      <td>0</td>\n",
       "      <td>0</td>\n",
       "      <td>1</td>\n",
       "    </tr>\n",
       "    <tr>\n",
       "      <th>1067</th>\n",
       "      <td>71760.0</td>\n",
       "      <td>4</td>\n",
       "      <td>40</td>\n",
       "      <td>39</td>\n",
       "      <td>71187.52</td>\n",
       "      <td>0</td>\n",
       "      <td>0</td>\n",
       "      <td>0</td>\n",
       "      <td>1</td>\n",
       "      <td>1</td>\n",
       "      <td>0</td>\n",
       "    </tr>\n",
       "    <tr>\n",
       "      <th>1088</th>\n",
       "      <td>76815.0</td>\n",
       "      <td>4</td>\n",
       "      <td>75</td>\n",
       "      <td>52</td>\n",
       "      <td>82684.17</td>\n",
       "      <td>1</td>\n",
       "      <td>0</td>\n",
       "      <td>0</td>\n",
       "      <td>1</td>\n",
       "      <td>1</td>\n",
       "      <td>0</td>\n",
       "    </tr>\n",
       "    <tr>\n",
       "      <th>1131</th>\n",
       "      <td>74256.0</td>\n",
       "      <td>2</td>\n",
       "      <td>40</td>\n",
       "      <td>27</td>\n",
       "      <td>83023.18</td>\n",
       "      <td>1</td>\n",
       "      <td>0</td>\n",
       "      <td>1</td>\n",
       "      <td>0</td>\n",
       "      <td>1</td>\n",
       "      <td>0</td>\n",
       "    </tr>\n",
       "    <tr>\n",
       "      <th>1317</th>\n",
       "      <td>76070.0</td>\n",
       "      <td>2</td>\n",
       "      <td>54</td>\n",
       "      <td>18</td>\n",
       "      <td>58309.56</td>\n",
       "      <td>0</td>\n",
       "      <td>1</td>\n",
       "      <td>0</td>\n",
       "      <td>0</td>\n",
       "      <td>1</td>\n",
       "      <td>0</td>\n",
       "    </tr>\n",
       "    <tr>\n",
       "      <th>1332</th>\n",
       "      <td>72649.0</td>\n",
       "      <td>3</td>\n",
       "      <td>69</td>\n",
       "      <td>52</td>\n",
       "      <td>78861.46</td>\n",
       "      <td>1</td>\n",
       "      <td>0</td>\n",
       "      <td>0</td>\n",
       "      <td>1</td>\n",
       "      <td>1</td>\n",
       "      <td>0</td>\n",
       "    </tr>\n",
       "    <tr>\n",
       "      <th>1454</th>\n",
       "      <td>77911.0</td>\n",
       "      <td>1</td>\n",
       "      <td>50</td>\n",
       "      <td>58</td>\n",
       "      <td>87831.62</td>\n",
       "      <td>1</td>\n",
       "      <td>1</td>\n",
       "      <td>0</td>\n",
       "      <td>0</td>\n",
       "      <td>1</td>\n",
       "      <td>0</td>\n",
       "    </tr>\n",
       "  </tbody>\n",
       "</table>\n",
       "</div>"
      ],
      "text/plain": [
       "      Previous CTC  Previous job change  Graduation Marks  EXP (Month)  \\\n",
       "116        77911.0                    1                50           58   \n",
       "292        74198.0                    1                57           25   \n",
       "543        73856.0                    1                75           54   \n",
       "572        71543.0                    4                82           30   \n",
       "701        71549.0                    4                47           50   \n",
       "847        71756.0                    4                67           23   \n",
       "860        75785.0                    4                63           37   \n",
       "941        72319.0                    1                51           50   \n",
       "1024       72661.0                    3                74           47   \n",
       "1047       73214.0                    4                57           22   \n",
       "1067       71760.0                    4                40           39   \n",
       "1088       76815.0                    4                75           52   \n",
       "1131       74256.0                    2                40           27   \n",
       "1317       76070.0                    2                54           18   \n",
       "1332       72649.0                    3                69           52   \n",
       "1454       77911.0                    1                50           58   \n",
       "\n",
       "            CTC  metro_city  Tier_1  Tier_2  Tier_3  Role_Executive  \\\n",
       "116    87831.62           1       0       0       1               1   \n",
       "292    99644.51           0       0       0       1               0   \n",
       "543   121362.73           1       1       0       0               0   \n",
       "572    61366.78           1       1       0       0               1   \n",
       "701    83116.21           0       0       1       0               1   \n",
       "847    72141.43           1       1       0       0               1   \n",
       "860   110338.25           1       1       0       0               0   \n",
       "941    63538.43           1       0       0       1               1   \n",
       "1024   70238.70           1       1       0       0               1   \n",
       "1047  100119.53           0       1       0       0               0   \n",
       "1067   71187.52           0       0       0       1               1   \n",
       "1088   82684.17           1       0       0       1               1   \n",
       "1131   83023.18           1       0       1       0               1   \n",
       "1317   58309.56           0       1       0       0               1   \n",
       "1332   78861.46           1       0       0       1               1   \n",
       "1454   87831.62           1       1       0       0               1   \n",
       "\n",
       "      Role_Manager  \n",
       "116              0  \n",
       "292              1  \n",
       "543              1  \n",
       "572              0  \n",
       "701              0  \n",
       "847              0  \n",
       "860              1  \n",
       "941              0  \n",
       "1024             0  \n",
       "1047             1  \n",
       "1067             0  \n",
       "1088             0  \n",
       "1131             0  \n",
       "1317             0  \n",
       "1332             0  \n",
       "1454             0  "
      ]
     },
     "execution_count": 31,
     "metadata": {},
     "output_type": "execute_result"
    }
   ],
   "source": [
    "df[(df['Previous CTC'] > upper_limit)]"
   ]
  },
  {
   "cell_type": "code",
   "execution_count": 32,
   "id": "6a44abcf",
   "metadata": {},
   "outputs": [
    {
     "name": "stderr",
     "output_type": "stream",
     "text": [
      "C:\\Users\\RAJ\\AppData\\Local\\Temp\\ipykernel_19276\\972866738.py:2: SettingWithCopyWarning: \n",
      "A value is trying to be set on a copy of a slice from a DataFrame\n",
      "\n",
      "See the caveats in the documentation: https://pandas.pydata.org/pandas-docs/stable/user_guide/indexing.html#returning-a-view-versus-a-copy\n",
      "  df['Previous CTC'][(df['Previous CTC'] > 3 * upper_limit)] = 3 * upper_limit\n"
     ]
    }
   ],
   "source": [
    "# Cap values in 'Previous CTC' column to 3 times the upper limit\n",
    "df['Previous CTC'][(df['Previous CTC'] > 3 * upper_limit)] = 3 * upper_limit"
   ]
  },
  {
   "cell_type": "code",
   "execution_count": 33,
   "id": "1e300898",
   "metadata": {},
   "outputs": [
    {
     "name": "stderr",
     "output_type": "stream",
     "text": [
      "C:\\Users\\RAJ\\AppData\\Local\\Temp\\ipykernel_19276\\529977559.py:1: UserWarning: \n",
      "\n",
      "`distplot` is a deprecated function and will be removed in seaborn v0.14.0.\n",
      "\n",
      "Please adapt your code to use either `displot` (a figure-level function with\n",
      "similar flexibility) or `histplot` (an axes-level function for histograms).\n",
      "\n",
      "For a guide to updating your code to use the new functions, please see\n",
      "https://gist.github.com/mwaskom/de44147ed2974457ad6372750bbe5751\n",
      "\n",
      "  sns.distplot(df['Previous CTC'], color='blue')\n"
     ]
    },
    {
     "data": {
      "text/plain": [
       "<Axes: xlabel='Previous CTC', ylabel='Density'>"
      ]
     },
     "execution_count": 33,
     "metadata": {},
     "output_type": "execute_result"
    },
    {
     "data": {
      "image/png": "[encoded data removed]",
      "text/plain": [
       "<Figure size 640x480 with 1 Axes>"
      ]
     },
     "metadata": {},
     "output_type": "display_data"
    }
   ],
   "source": [
    "\n",
    "sns.distplot(df['Previous CTC'], color='blue')"
   ]
  },
  {
   "cell_type": "code",
   "execution_count": 34,
   "id": "28b8e284",
   "metadata": {},
   "outputs": [
    {
     "name": "stdout",
     "output_type": "stream",
     "text": [
      "112826.26\n"
     ]
    }
   ],
   "source": [
    "upper_limit2 = np.percentile(df['CTC'], [99])[0]\n",
    "print(upper_limit2)"
   ]
  },
  {
   "cell_type": "code",
   "execution_count": 35,
   "id": "5b7458a0",
   "metadata": {},
   "outputs": [
    {
     "data": {
      "text/html": [
       "<div>\n",
       "<style scoped>\n",
       "    .dataframe tbody tr th:only-of-type {\n",
       "        vertical-align: middle;\n",
       "    }\n",
       "\n",
       "    .dataframe tbody tr th {\n",
       "        vertical-align: top;\n",
       "    }\n",
       "\n",
       "    .dataframe thead th {\n",
       "        text-align: right;\n",
       "    }\n",
       "</style>\n",
       "<table border=\"1\" class=\"dataframe\">\n",
       "  <thead>\n",
       "    <tr style=\"text-align: right;\">\n",
       "      <th></th>\n",
       "      <th>Previous CTC</th>\n",
       "      <th>Previous job change</th>\n",
       "      <th>Graduation Marks</th>\n",
       "      <th>EXP (Month)</th>\n",
       "      <th>CTC</th>\n",
       "      <th>metro_city</th>\n",
       "      <th>Tier_1</th>\n",
       "      <th>Tier_2</th>\n",
       "      <th>Tier_3</th>\n",
       "      <th>Role_Executive</th>\n",
       "      <th>Role_Manager</th>\n",
       "    </tr>\n",
       "  </thead>\n",
       "  <tbody>\n",
       "    <tr>\n",
       "      <th>34</th>\n",
       "      <td>60894.0</td>\n",
       "      <td>4</td>\n",
       "      <td>80</td>\n",
       "      <td>28</td>\n",
       "      <td>118651.89</td>\n",
       "      <td>0</td>\n",
       "      <td>1</td>\n",
       "      <td>0</td>\n",
       "      <td>0</td>\n",
       "      <td>0</td>\n",
       "      <td>1</td>\n",
       "    </tr>\n",
       "    <tr>\n",
       "      <th>185</th>\n",
       "      <td>70258.0</td>\n",
       "      <td>4</td>\n",
       "      <td>38</td>\n",
       "      <td>36</td>\n",
       "      <td>115126.75</td>\n",
       "      <td>0</td>\n",
       "      <td>0</td>\n",
       "      <td>1</td>\n",
       "      <td>0</td>\n",
       "      <td>0</td>\n",
       "      <td>1</td>\n",
       "    </tr>\n",
       "    <tr>\n",
       "      <th>254</th>\n",
       "      <td>51912.0</td>\n",
       "      <td>2</td>\n",
       "      <td>66</td>\n",
       "      <td>50</td>\n",
       "      <td>113141.14</td>\n",
       "      <td>1</td>\n",
       "      <td>0</td>\n",
       "      <td>1</td>\n",
       "      <td>0</td>\n",
       "      <td>0</td>\n",
       "      <td>1</td>\n",
       "    </tr>\n",
       "    <tr>\n",
       "      <th>328</th>\n",
       "      <td>62264.0</td>\n",
       "      <td>2</td>\n",
       "      <td>52</td>\n",
       "      <td>64</td>\n",
       "      <td>114996.23</td>\n",
       "      <td>0</td>\n",
       "      <td>0</td>\n",
       "      <td>0</td>\n",
       "      <td>1</td>\n",
       "      <td>0</td>\n",
       "      <td>1</td>\n",
       "    </tr>\n",
       "    <tr>\n",
       "      <th>543</th>\n",
       "      <td>73856.0</td>\n",
       "      <td>1</td>\n",
       "      <td>75</td>\n",
       "      <td>54</td>\n",
       "      <td>121362.73</td>\n",
       "      <td>1</td>\n",
       "      <td>1</td>\n",
       "      <td>0</td>\n",
       "      <td>0</td>\n",
       "      <td>0</td>\n",
       "      <td>1</td>\n",
       "    </tr>\n",
       "    <tr>\n",
       "      <th>577</th>\n",
       "      <td>59101.0</td>\n",
       "      <td>3</td>\n",
       "      <td>56</td>\n",
       "      <td>31</td>\n",
       "      <td>113843.16</td>\n",
       "      <td>1</td>\n",
       "      <td>0</td>\n",
       "      <td>0</td>\n",
       "      <td>1</td>\n",
       "      <td>0</td>\n",
       "      <td>1</td>\n",
       "    </tr>\n",
       "    <tr>\n",
       "      <th>668</th>\n",
       "      <td>60476.0</td>\n",
       "      <td>1</td>\n",
       "      <td>85</td>\n",
       "      <td>62</td>\n",
       "      <td>113212.07</td>\n",
       "      <td>1</td>\n",
       "      <td>1</td>\n",
       "      <td>0</td>\n",
       "      <td>0</td>\n",
       "      <td>0</td>\n",
       "      <td>1</td>\n",
       "    </tr>\n",
       "    <tr>\n",
       "      <th>883</th>\n",
       "      <td>64930.0</td>\n",
       "      <td>1</td>\n",
       "      <td>66</td>\n",
       "      <td>51</td>\n",
       "      <td>114939.65</td>\n",
       "      <td>1</td>\n",
       "      <td>0</td>\n",
       "      <td>0</td>\n",
       "      <td>1</td>\n",
       "      <td>0</td>\n",
       "      <td>1</td>\n",
       "    </tr>\n",
       "    <tr>\n",
       "      <th>1146</th>\n",
       "      <td>61709.0</td>\n",
       "      <td>4</td>\n",
       "      <td>39</td>\n",
       "      <td>60</td>\n",
       "      <td>117207.24</td>\n",
       "      <td>1</td>\n",
       "      <td>1</td>\n",
       "      <td>0</td>\n",
       "      <td>0</td>\n",
       "      <td>0</td>\n",
       "      <td>1</td>\n",
       "    </tr>\n",
       "    <tr>\n",
       "      <th>1230</th>\n",
       "      <td>60298.0</td>\n",
       "      <td>1</td>\n",
       "      <td>47</td>\n",
       "      <td>52</td>\n",
       "      <td>123416.99</td>\n",
       "      <td>0</td>\n",
       "      <td>0</td>\n",
       "      <td>1</td>\n",
       "      <td>0</td>\n",
       "      <td>0</td>\n",
       "      <td>1</td>\n",
       "    </tr>\n",
       "    <tr>\n",
       "      <th>1240</th>\n",
       "      <td>67907.0</td>\n",
       "      <td>2</td>\n",
       "      <td>74</td>\n",
       "      <td>52</td>\n",
       "      <td>113508.80</td>\n",
       "      <td>1</td>\n",
       "      <td>0</td>\n",
       "      <td>1</td>\n",
       "      <td>0</td>\n",
       "      <td>0</td>\n",
       "      <td>1</td>\n",
       "    </tr>\n",
       "    <tr>\n",
       "      <th>1284</th>\n",
       "      <td>65519.0</td>\n",
       "      <td>3</td>\n",
       "      <td>55</td>\n",
       "      <td>61</td>\n",
       "      <td>117307.70</td>\n",
       "      <td>1</td>\n",
       "      <td>0</td>\n",
       "      <td>1</td>\n",
       "      <td>0</td>\n",
       "      <td>0</td>\n",
       "      <td>1</td>\n",
       "    </tr>\n",
       "    <tr>\n",
       "      <th>1300</th>\n",
       "      <td>59883.0</td>\n",
       "      <td>4</td>\n",
       "      <td>40</td>\n",
       "      <td>45</td>\n",
       "      <td>119585.49</td>\n",
       "      <td>1</td>\n",
       "      <td>0</td>\n",
       "      <td>1</td>\n",
       "      <td>0</td>\n",
       "      <td>0</td>\n",
       "      <td>1</td>\n",
       "    </tr>\n",
       "    <tr>\n",
       "      <th>1372</th>\n",
       "      <td>60894.0</td>\n",
       "      <td>4</td>\n",
       "      <td>80</td>\n",
       "      <td>28</td>\n",
       "      <td>118651.89</td>\n",
       "      <td>1</td>\n",
       "      <td>1</td>\n",
       "      <td>0</td>\n",
       "      <td>0</td>\n",
       "      <td>0</td>\n",
       "      <td>1</td>\n",
       "    </tr>\n",
       "    <tr>\n",
       "      <th>1523</th>\n",
       "      <td>70258.0</td>\n",
       "      <td>4</td>\n",
       "      <td>38</td>\n",
       "      <td>36</td>\n",
       "      <td>115126.75</td>\n",
       "      <td>1</td>\n",
       "      <td>0</td>\n",
       "      <td>1</td>\n",
       "      <td>0</td>\n",
       "      <td>0</td>\n",
       "      <td>1</td>\n",
       "    </tr>\n",
       "  </tbody>\n",
       "</table>\n",
       "</div>"
      ],
      "text/plain": [
       "      Previous CTC  Previous job change  Graduation Marks  EXP (Month)  \\\n",
       "34         60894.0                    4                80           28   \n",
       "185        70258.0                    4                38           36   \n",
       "254        51912.0                    2                66           50   \n",
       "328        62264.0                    2                52           64   \n",
       "543        73856.0                    1                75           54   \n",
       "577        59101.0                    3                56           31   \n",
       "668        60476.0                    1                85           62   \n",
       "883        64930.0                    1                66           51   \n",
       "1146       61709.0                    4                39           60   \n",
       "1230       60298.0                    1                47           52   \n",
       "1240       67907.0                    2                74           52   \n",
       "1284       65519.0                    3                55           61   \n",
       "1300       59883.0                    4                40           45   \n",
       "1372       60894.0                    4                80           28   \n",
       "1523       70258.0                    4                38           36   \n",
       "\n",
       "            CTC  metro_city  Tier_1  Tier_2  Tier_3  Role_Executive  \\\n",
       "34    118651.89           0       1       0       0               0   \n",
       "185   115126.75           0       0       1       0               0   \n",
       "254   113141.14           1       0       1       0               0   \n",
       "328   114996.23           0       0       0       1               0   \n",
       "543   121362.73           1       1       0       0               0   \n",
       "577   113843.16           1       0       0       1               0   \n",
       "668   113212.07           1       1       0       0               0   \n",
       "883   114939.65           1       0       0       1               0   \n",
       "1146  117207.24           1       1       0       0               0   \n",
       "1230  123416.99           0       0       1       0               0   \n",
       "1240  113508.80           1       0       1       0               0   \n",
       "1284  117307.70           1       0       1       0               0   \n",
       "1300  119585.49           1       0       1       0               0   \n",
       "1372  118651.89           1       1       0       0               0   \n",
       "1523  115126.75           1       0       1       0               0   \n",
       "\n",
       "      Role_Manager  \n",
       "34               1  \n",
       "185              1  \n",
       "254              1  \n",
       "328              1  \n",
       "543              1  \n",
       "577              1  \n",
       "668              1  \n",
       "883              1  \n",
       "1146             1  \n",
       "1230             1  \n",
       "1240             1  \n",
       "1284             1  \n",
       "1300             1  \n",
       "1372             1  \n",
       "1523             1  "
      ]
     },
     "execution_count": 35,
     "metadata": {},
     "output_type": "execute_result"
    }
   ],
   "source": [
    "df[(df['CTC'] > upper_limit2)]"
   ]
  },
  {
   "cell_type": "code",
   "execution_count": 36,
   "id": "ee1e5b8f",
   "metadata": {},
   "outputs": [
    {
     "name": "stderr",
     "output_type": "stream",
     "text": [
      "C:\\Users\\RAJ\\AppData\\Local\\Temp\\ipykernel_19276\\1483690206.py:1: SettingWithCopyWarning: \n",
      "A value is trying to be set on a copy of a slice from a DataFrame\n",
      "\n",
      "See the caveats in the documentation: https://pandas.pydata.org/pandas-docs/stable/user_guide/indexing.html#returning-a-view-versus-a-copy\n",
      "  df['CTC'][(df['CTC'] > 3 * upper_limit2)] = 3 * upper_limit2\n"
     ]
    }
   ],
   "source": [
    "df['CTC'][(df['CTC'] > 3 * upper_limit2)] = 3 * upper_limit2"
   ]
  },
  {
   "cell_type": "code",
   "execution_count": 37,
   "id": "38b95559",
   "metadata": {},
   "outputs": [
    {
     "data": {
      "text/html": [
       "<div>\n",
       "<style scoped>\n",
       "    .dataframe tbody tr th:only-of-type {\n",
       "        vertical-align: middle;\n",
       "    }\n",
       "\n",
       "    .dataframe tbody tr th {\n",
       "        vertical-align: top;\n",
       "    }\n",
       "\n",
       "    .dataframe thead th {\n",
       "        text-align: right;\n",
       "    }\n",
       "</style>\n",
       "<table border=\"1\" class=\"dataframe\">\n",
       "  <thead>\n",
       "    <tr style=\"text-align: right;\">\n",
       "      <th></th>\n",
       "      <th>Previous CTC</th>\n",
       "      <th>Previous job change</th>\n",
       "      <th>Graduation Marks</th>\n",
       "      <th>EXP (Month)</th>\n",
       "      <th>CTC</th>\n",
       "      <th>metro_city</th>\n",
       "      <th>Tier_1</th>\n",
       "      <th>Tier_2</th>\n",
       "      <th>Tier_3</th>\n",
       "      <th>Role_Executive</th>\n",
       "      <th>Role_Manager</th>\n",
       "    </tr>\n",
       "  </thead>\n",
       "  <tbody>\n",
       "    <tr>\n",
       "      <th>Previous CTC</th>\n",
       "      <td>1.000000</td>\n",
       "      <td>0.005756</td>\n",
       "      <td>-0.032976</td>\n",
       "      <td>0.119163</td>\n",
       "      <td>0.258000</td>\n",
       "      <td>0.004644</td>\n",
       "      <td>-0.031366</td>\n",
       "      <td>-0.010947</td>\n",
       "      <td>0.042438</td>\n",
       "      <td>-0.012321</td>\n",
       "      <td>0.012321</td>\n",
       "    </tr>\n",
       "    <tr>\n",
       "      <th>Previous job change</th>\n",
       "      <td>0.005756</td>\n",
       "      <td>1.000000</td>\n",
       "      <td>0.019267</td>\n",
       "      <td>0.023488</td>\n",
       "      <td>0.011370</td>\n",
       "      <td>0.051670</td>\n",
       "      <td>0.045931</td>\n",
       "      <td>0.004271</td>\n",
       "      <td>-0.050794</td>\n",
       "      <td>0.017150</td>\n",
       "      <td>-0.017150</td>\n",
       "    </tr>\n",
       "    <tr>\n",
       "      <th>Graduation Marks</th>\n",
       "      <td>-0.032976</td>\n",
       "      <td>0.019267</td>\n",
       "      <td>1.000000</td>\n",
       "      <td>-0.057061</td>\n",
       "      <td>-0.005450</td>\n",
       "      <td>-0.018616</td>\n",
       "      <td>0.005666</td>\n",
       "      <td>-0.018419</td>\n",
       "      <td>0.012021</td>\n",
       "      <td>-0.017858</td>\n",
       "      <td>0.017858</td>\n",
       "    </tr>\n",
       "    <tr>\n",
       "      <th>EXP (Month)</th>\n",
       "      <td>0.119163</td>\n",
       "      <td>0.023488</td>\n",
       "      <td>-0.057061</td>\n",
       "      <td>1.000000</td>\n",
       "      <td>0.301115</td>\n",
       "      <td>-0.023613</td>\n",
       "      <td>-0.003323</td>\n",
       "      <td>-0.014558</td>\n",
       "      <td>0.017427</td>\n",
       "      <td>0.026751</td>\n",
       "      <td>-0.026751</td>\n",
       "    </tr>\n",
       "    <tr>\n",
       "      <th>CTC</th>\n",
       "      <td>0.258000</td>\n",
       "      <td>0.011370</td>\n",
       "      <td>-0.005450</td>\n",
       "      <td>0.301115</td>\n",
       "      <td>1.000000</td>\n",
       "      <td>-0.020365</td>\n",
       "      <td>0.019912</td>\n",
       "      <td>0.012346</td>\n",
       "      <td>-0.032149</td>\n",
       "      <td>-0.621311</td>\n",
       "      <td>0.621311</td>\n",
       "    </tr>\n",
       "    <tr>\n",
       "      <th>metro_city</th>\n",
       "      <td>0.004644</td>\n",
       "      <td>0.051670</td>\n",
       "      <td>-0.018616</td>\n",
       "      <td>-0.023613</td>\n",
       "      <td>-0.020365</td>\n",
       "      <td>1.000000</td>\n",
       "      <td>0.002135</td>\n",
       "      <td>0.022917</td>\n",
       "      <td>-0.024288</td>\n",
       "      <td>0.048671</td>\n",
       "      <td>-0.048671</td>\n",
       "    </tr>\n",
       "    <tr>\n",
       "      <th>Tier_1</th>\n",
       "      <td>-0.031366</td>\n",
       "      <td>0.045931</td>\n",
       "      <td>0.005666</td>\n",
       "      <td>-0.003323</td>\n",
       "      <td>0.019912</td>\n",
       "      <td>0.002135</td>\n",
       "      <td>1.000000</td>\n",
       "      <td>-0.491510</td>\n",
       "      <td>-0.541736</td>\n",
       "      <td>-0.015158</td>\n",
       "      <td>0.015158</td>\n",
       "    </tr>\n",
       "    <tr>\n",
       "      <th>Tier_2</th>\n",
       "      <td>-0.010947</td>\n",
       "      <td>0.004271</td>\n",
       "      <td>-0.018419</td>\n",
       "      <td>-0.014558</td>\n",
       "      <td>0.012346</td>\n",
       "      <td>0.022917</td>\n",
       "      <td>-0.491510</td>\n",
       "      <td>1.000000</td>\n",
       "      <td>-0.465741</td>\n",
       "      <td>0.004865</td>\n",
       "      <td>-0.004865</td>\n",
       "    </tr>\n",
       "    <tr>\n",
       "      <th>Tier_3</th>\n",
       "      <td>0.042438</td>\n",
       "      <td>-0.050794</td>\n",
       "      <td>0.012021</td>\n",
       "      <td>0.017427</td>\n",
       "      <td>-0.032149</td>\n",
       "      <td>-0.024288</td>\n",
       "      <td>-0.541736</td>\n",
       "      <td>-0.465741</td>\n",
       "      <td>1.000000</td>\n",
       "      <td>0.010706</td>\n",
       "      <td>-0.010706</td>\n",
       "    </tr>\n",
       "    <tr>\n",
       "      <th>Role_Executive</th>\n",
       "      <td>-0.012321</td>\n",
       "      <td>0.017150</td>\n",
       "      <td>-0.017858</td>\n",
       "      <td>0.026751</td>\n",
       "      <td>-0.621311</td>\n",
       "      <td>0.048671</td>\n",
       "      <td>-0.015158</td>\n",
       "      <td>0.004865</td>\n",
       "      <td>0.010706</td>\n",
       "      <td>1.000000</td>\n",
       "      <td>-1.000000</td>\n",
       "    </tr>\n",
       "    <tr>\n",
       "      <th>Role_Manager</th>\n",
       "      <td>0.012321</td>\n",
       "      <td>-0.017150</td>\n",
       "      <td>0.017858</td>\n",
       "      <td>-0.026751</td>\n",
       "      <td>0.621311</td>\n",
       "      <td>-0.048671</td>\n",
       "      <td>0.015158</td>\n",
       "      <td>-0.004865</td>\n",
       "      <td>-0.010706</td>\n",
       "      <td>-1.000000</td>\n",
       "      <td>1.000000</td>\n",
       "    </tr>\n",
       "  </tbody>\n",
       "</table>\n",
       "</div>"
      ],
      "text/plain": [
       "                     Previous CTC  Previous job change  Graduation Marks  \\\n",
       "Previous CTC             1.000000             0.005756         -0.032976   \n",
       "Previous job change      0.005756             1.000000          0.019267   \n",
       "Graduation Marks        -0.032976             0.019267          1.000000   \n",
       "EXP (Month)              0.119163             0.023488         -0.057061   \n",
       "CTC                      0.258000             0.011370         -0.005450   \n",
       "metro_city               0.004644             0.051670         -0.018616   \n",
       "Tier_1                  -0.031366             0.045931          0.005666   \n",
       "Tier_2                  -0.010947             0.004271         -0.018419   \n",
       "Tier_3                   0.042438            -0.050794          0.012021   \n",
       "Role_Executive          -0.012321             0.017150         -0.017858   \n",
       "Role_Manager             0.012321            -0.017150          0.017858   \n",
       "\n",
       "                     EXP (Month)       CTC  metro_city    Tier_1    Tier_2  \\\n",
       "Previous CTC            0.119163  0.258000    0.004644 -0.031366 -0.010947   \n",
       "Previous job change     0.023488  0.011370    0.051670  0.045931  0.004271   \n",
       "Graduation Marks       -0.057061 -0.005450   -0.018616  0.005666 -0.018419   \n",
       "EXP (Month)             1.000000  0.301115   -0.023613 -0.003323 -0.014558   \n",
       "CTC                     0.301115  1.000000   -0.020365  0.019912  0.012346   \n",
       "metro_city             -0.023613 -0.020365    1.000000  0.002135  0.022917   \n",
       "Tier_1                 -0.003323  0.019912    0.002135  1.000000 -0.491510   \n",
       "Tier_2                 -0.014558  0.012346    0.022917 -0.491510  1.000000   \n",
       "Tier_3                  0.017427 -0.032149   -0.024288 -0.541736 -0.465741   \n",
       "Role_Executive          0.026751 -0.621311    0.048671 -0.015158  0.004865   \n",
       "Role_Manager           -0.026751  0.621311   -0.048671  0.015158 -0.004865   \n",
       "\n",
       "                       Tier_3  Role_Executive  Role_Manager  \n",
       "Previous CTC         0.042438       -0.012321      0.012321  \n",
       "Previous job change -0.050794        0.017150     -0.017150  \n",
       "Graduation Marks     0.012021       -0.017858      0.017858  \n",
       "EXP (Month)          0.017427        0.026751     -0.026751  \n",
       "CTC                 -0.032149       -0.621311      0.621311  \n",
       "metro_city          -0.024288        0.048671     -0.048671  \n",
       "Tier_1              -0.541736       -0.015158      0.015158  \n",
       "Tier_2              -0.465741        0.004865     -0.004865  \n",
       "Tier_3               1.000000        0.010706     -0.010706  \n",
       "Role_Executive       0.010706        1.000000     -1.000000  \n",
       "Role_Manager        -0.010706       -1.000000      1.000000  "
      ]
     },
     "execution_count": 37,
     "metadata": {},
     "output_type": "execute_result"
    }
   ],
   "source": [
    "# Calculate correlation matrix for the dataframe\n",
    "df.corr()"
   ]
  },
  {
   "cell_type": "markdown",
   "id": "6fc1e11d",
   "metadata": {},
   "source": [
    "#simple regresssion\n"
   ]
  },
  {
   "cell_type": "code",
   "execution_count": 38,
   "id": "59035bc6",
   "metadata": {},
   "outputs": [],
   "source": [
    "from sklearn.linear_model import LinearRegression"
   ]
  },
  {
   "cell_type": "code",
   "execution_count": 39,
   "id": "d244d16e",
   "metadata": {},
   "outputs": [
    {
     "data": {
      "text/html": [
       "<style>#sk-container-id-1 {color: black;}#sk-container-id-1 pre{padding: 0;}#sk-container-id-1 div.sk-toggleable {background-color: white;}#sk-container-id-1 label.sk-toggleable__label {cursor: pointer;display: block;width: 100%;margin-bottom: 0;padding: 0.3em;box-sizing: border-box;text-align: center;}#sk-container-id-1 label.sk-toggleable__label-arrow:before {content: \"▸\";float: left;margin-right: 0.25em;color: #696969;}#sk-container-id-1 label.sk-toggleable__label-arrow:hover:before {color: black;}#sk-container-id-1 div.sk-estimator:hover label.sk-toggleable__label-arrow:before {color: black;}#sk-container-id-1 div.sk-toggleable__content {max-height: 0;max-width: 0;overflow: hidden;text-align: left;background-color: #f0f8ff;}#sk-container-id-1 div.sk-toggleable__content pre {margin: 0.2em;color: black;border-radius: 0.25em;background-color: #f0f8ff;}#sk-container-id-1 input.sk-toggleable__control:checked~div.sk-toggleable__content {max-height: 200px;max-width: 100%;overflow: auto;}#sk-container-id-1 input.sk-toggleable__control:checked~label.sk-toggleable__label-arrow:before {content: \"▾\";}#sk-container-id-1 div.sk-estimator input.sk-toggleable__control:checked~label.sk-toggleable__label {background-color: #d4ebff;}#sk-container-id-1 div.sk-label input.sk-toggleable__control:checked~label.sk-toggleable__label {background-color: #d4ebff;}#sk-container-id-1 input.sk-hidden--visually {border: 0;clip: rect(1px 1px 1px 1px);clip: rect(1px, 1px, 1px, 1px);height: 1px;margin: -1px;overflow: hidden;padding: 0;position: absolute;width: 1px;}#sk-container-id-1 div.sk-estimator {font-family: monospace;background-color: #f0f8ff;border: 1px dotted black;border-radius: 0.25em;box-sizing: border-box;margin-bottom: 0.5em;}#sk-container-id-1 div.sk-estimator:hover {background-color: #d4ebff;}#sk-container-id-1 div.sk-parallel-item::after {content: \"\";width: 100%;border-bottom: 1px solid gray;flex-grow: 1;}#sk-container-id-1 div.sk-label:hover label.sk-toggleable__label {background-color: #d4ebff;}#sk-container-id-1 div.sk-serial::before {content: \"\";position: absolute;border-left: 1px solid gray;box-sizing: border-box;top: 0;bottom: 0;left: 50%;z-index: 0;}#sk-container-id-1 div.sk-serial {display: flex;flex-direction: column;align-items: center;background-color: white;padding-right: 0.2em;padding-left: 0.2em;position: relative;}#sk-container-id-1 div.sk-item {position: relative;z-index: 1;}#sk-container-id-1 div.sk-parallel {display: flex;align-items: stretch;justify-content: center;background-color: white;position: relative;}#sk-container-id-1 div.sk-item::before, #sk-container-id-1 div.sk-parallel-item::before {content: \"\";position: absolute;border-left: 1px solid gray;box-sizing: border-box;top: 0;bottom: 0;left: 50%;z-index: -1;}#sk-container-id-1 div.sk-parallel-item {display: flex;flex-direction: column;z-index: 1;position: relative;background-color: white;}#sk-container-id-1 div.sk-parallel-item:first-child::after {align-self: flex-end;width: 50%;}#sk-container-id-1 div.sk-parallel-item:last-child::after {align-self: flex-start;width: 50%;}#sk-container-id-1 div.sk-parallel-item:only-child::after {width: 0;}#sk-container-id-1 div.sk-dashed-wrapped {border: 1px dashed gray;margin: 0 0.4em 0.5em 0.4em;box-sizing: border-box;padding-bottom: 0.4em;background-color: white;}#sk-container-id-1 div.sk-label label {font-family: monospace;font-weight: bold;display: inline-block;line-height: 1.2em;}#sk-container-id-1 div.sk-label-container {text-align: center;}#sk-container-id-1 div.sk-container {/* jupyter's `normalize.less` sets `[hidden] { display: none; }` but bootstrap.min.css set `[hidden] { display: none !important; }` so we also need the `!important` here to be able to override the default hidden behavior on the sphinx rendered scikit-learn.org. See: https://github.com/scikit-learn/scikit-learn/issues/21755 */display: inline-block !important;position: relative;}#sk-container-id-1 div.sk-text-repr-fallback {display: none;}</style><div id=\"sk-container-id-1\" class=\"sk-top-container\"><div class=\"sk-text-repr-fallback\"><pre>LinearRegression()</pre><b>In a Jupyter environment, please rerun this cell to show the HTML representation or trust the notebook. <br />On GitHub, the HTML representation is unable to render, please try loading this page with nbviewer.org.</b></div><div class=\"sk-container\" hidden><div class=\"sk-item\"><div class=\"sk-estimator sk-toggleable\"><input class=\"sk-toggleable__control sk-hidden--visually\" id=\"sk-estimator-id-1\" type=\"checkbox\" checked><label for=\"sk-estimator-id-1\" class=\"sk-toggleable__label sk-toggleable__label-arrow\">LinearRegression</label><div class=\"sk-toggleable__content\"><pre>LinearRegression()</pre></div></div></div></div></div>"
      ],
      "text/plain": [
       "LinearRegression()"
      ]
     },
     "execution_count": 39,
     "metadata": {},
     "output_type": "execute_result"
    }
   ],
   "source": [
    "# Create a Linear Regression model and fit it to the data\n",
    "lm = LinearRegression()\n",
    "y_slr = df['CTC']\n",
    "x_slr = df[['EXP (Month)']]\n",
    "lm.fit(x_slr, y_slr)"
   ]
  },
  {
   "cell_type": "code",
   "execution_count": 40,
   "id": "f53445b5",
   "metadata": {},
   "outputs": [
    {
     "name": "stdout",
     "output_type": "stream",
     "text": [
      "64864.26270700767 [268.6413489]\n"
     ]
    }
   ],
   "source": [
    "# Print the intercept and coefficients of the linear regression model\n",
    "print(lm.intercept_, lm.coef_)"
   ]
  },
  {
   "cell_type": "code",
   "execution_count": 41,
   "id": "1f84e92c",
   "metadata": {},
   "outputs": [
    {
     "data": {
      "text/plain": [
       "array([69968.44833614, 69699.80698724, 72386.22047626, ...,\n",
       "       69968.44833614, 72654.86182516, 69699.80698724])"
      ]
     },
     "execution_count": 41,
     "metadata": {},
     "output_type": "execute_result"
    }
   ],
   "source": [
    "# Predict CTC values using the linear regression model\n",
    "lm.predict(x_slr)"
   ]
  },
  {
   "cell_type": "code",
   "execution_count": 42,
   "id": "c6ab356f",
   "metadata": {},
   "outputs": [
    {
     "data": {
      "text/plain": [
       "<seaborn.axisgrid.JointGrid at 0x2049a989dd0>"
      ]
     },
     "execution_count": 42,
     "metadata": {},
     "output_type": "execute_result"
    },
    {
     "data": {
      "image/png": "[encoded data removed]",
      "text/plain": [
       "<Figure size 600x600 with 3 Axes>"
      ]
     },
     "metadata": {},
     "output_type": "display_data"
    }
   ],
   "source": [
    "# Visualize the linear regression model's fit on the data\n",
    "sns.jointplot(x=df['EXP (Month)'], y=df['CTC'], data=df, kind='reg')"
   ]
  },
  {
   "cell_type": "markdown",
   "id": "199da177",
   "metadata": {},
   "source": [
    "# DIVIDE THE DATA IN TEST AND TRAIN SPLIT"
   ]
  },
  {
   "cell_type": "code",
   "execution_count": 43,
   "id": "63b06e27",
   "metadata": {},
   "outputs": [],
   "source": [
    "from sklearn.model_selection import train_test_split\n",
    " # Spliting the dataset into features (x) and the target variable (y)\n",
    "X = df.loc[:, df.columns != 'CTC']\n",
    "y= df['CTC']\n",
    "# Split the data into training and testing sets with a 20% test size\n",
    "X_train, X_test, y_train, y_test = train_test_split(X, y, test_size=0.2, random_state=0)"
   ]
  },
  {
   "cell_type": "code",
   "execution_count": 44,
   "id": "4de47042",
   "metadata": {},
   "outputs": [
    {
     "name": "stdout",
     "output_type": "stream",
     "text": [
      "(1271, 10) (318, 10) (1271,) (318,)\n"
     ]
    }
   ],
   "source": [
    "print(X_train.shape, X_test.shape, y_train.shape, y_test.shape)"
   ]
  },
  {
   "cell_type": "markdown",
   "id": "5ce9b255",
   "metadata": {},
   "source": [
    "# MULTIPLE LINEAR REGRESSION\n"
   ]
  },
  {
   "cell_type": "code",
   "execution_count": 45,
   "id": "3b60cfe9",
   "metadata": {},
   "outputs": [],
   "source": [
    "from sklearn.linear_model import LinearRegression ### importing linear regression object\n",
    "ln1=LinearRegression() "
   ]
  },
  {
   "cell_type": "code",
   "execution_count": 46,
   "id": "18f4a5bd",
   "metadata": {},
   "outputs": [
    {
     "data": {
      "text/html": [
       "<style>#sk-container-id-2 {color: black;}#sk-container-id-2 pre{padding: 0;}#sk-container-id-2 div.sk-toggleable {background-color: white;}#sk-container-id-2 label.sk-toggleable__label {cursor: pointer;display: block;width: 100%;margin-bottom: 0;padding: 0.3em;box-sizing: border-box;text-align: center;}#sk-container-id-2 label.sk-toggleable__label-arrow:before {content: \"▸\";float: left;margin-right: 0.25em;color: #696969;}#sk-container-id-2 label.sk-toggleable__label-arrow:hover:before {color: black;}#sk-container-id-2 div.sk-estimator:hover label.sk-toggleable__label-arrow:before {color: black;}#sk-container-id-2 div.sk-toggleable__content {max-height: 0;max-width: 0;overflow: hidden;text-align: left;background-color: #f0f8ff;}#sk-container-id-2 div.sk-toggleable__content pre {margin: 0.2em;color: black;border-radius: 0.25em;background-color: #f0f8ff;}#sk-container-id-2 input.sk-toggleable__control:checked~div.sk-toggleable__content {max-height: 200px;max-width: 100%;overflow: auto;}#sk-container-id-2 input.sk-toggleable__control:checked~label.sk-toggleable__label-arrow:before {content: \"▾\";}#sk-container-id-2 div.sk-estimator input.sk-toggleable__control:checked~label.sk-toggleable__label {background-color: #d4ebff;}#sk-container-id-2 div.sk-label input.sk-toggleable__control:checked~label.sk-toggleable__label {background-color: #d4ebff;}#sk-container-id-2 input.sk-hidden--visually {border: 0;clip: rect(1px 1px 1px 1px);clip: rect(1px, 1px, 1px, 1px);height: 1px;margin: -1px;overflow: hidden;padding: 0;position: absolute;width: 1px;}#sk-container-id-2 div.sk-estimator {font-family: monospace;background-color: #f0f8ff;border: 1px dotted black;border-radius: 0.25em;box-sizing: border-box;margin-bottom: 0.5em;}#sk-container-id-2 div.sk-estimator:hover {background-color: #d4ebff;}#sk-container-id-2 div.sk-parallel-item::after {content: \"\";width: 100%;border-bottom: 1px solid gray;flex-grow: 1;}#sk-container-id-2 div.sk-label:hover label.sk-toggleable__label {background-color: #d4ebff;}#sk-container-id-2 div.sk-serial::before {content: \"\";position: absolute;border-left: 1px solid gray;box-sizing: border-box;top: 0;bottom: 0;left: 50%;z-index: 0;}#sk-container-id-2 div.sk-serial {display: flex;flex-direction: column;align-items: center;background-color: white;padding-right: 0.2em;padding-left: 0.2em;position: relative;}#sk-container-id-2 div.sk-item {position: relative;z-index: 1;}#sk-container-id-2 div.sk-parallel {display: flex;align-items: stretch;justify-content: center;background-color: white;position: relative;}#sk-container-id-2 div.sk-item::before, #sk-container-id-2 div.sk-parallel-item::before {content: \"\";position: absolute;border-left: 1px solid gray;box-sizing: border-box;top: 0;bottom: 0;left: 50%;z-index: -1;}#sk-container-id-2 div.sk-parallel-item {display: flex;flex-direction: column;z-index: 1;position: relative;background-color: white;}#sk-container-id-2 div.sk-parallel-item:first-child::after {align-self: flex-end;width: 50%;}#sk-container-id-2 div.sk-parallel-item:last-child::after {align-self: flex-start;width: 50%;}#sk-container-id-2 div.sk-parallel-item:only-child::after {width: 0;}#sk-container-id-2 div.sk-dashed-wrapped {border: 1px dashed gray;margin: 0 0.4em 0.5em 0.4em;box-sizing: border-box;padding-bottom: 0.4em;background-color: white;}#sk-container-id-2 div.sk-label label {font-family: monospace;font-weight: bold;display: inline-block;line-height: 1.2em;}#sk-container-id-2 div.sk-label-container {text-align: center;}#sk-container-id-2 div.sk-container {/* jupyter's `normalize.less` sets `[hidden] { display: none; }` but bootstrap.min.css set `[hidden] { display: none !important; }` so we also need the `!important` here to be able to override the default hidden behavior on the sphinx rendered scikit-learn.org. See: https://github.com/scikit-learn/scikit-learn/issues/21755 */display: inline-block !important;position: relative;}#sk-container-id-2 div.sk-text-repr-fallback {display: none;}</style><div id=\"sk-container-id-2\" class=\"sk-top-container\"><div class=\"sk-text-repr-fallback\"><pre>LinearRegression()</pre><b>In a Jupyter environment, please rerun this cell to show the HTML representation or trust the notebook. <br />On GitHub, the HTML representation is unable to render, please try loading this page with nbviewer.org.</b></div><div class=\"sk-container\" hidden><div class=\"sk-item\"><div class=\"sk-estimator sk-toggleable\"><input class=\"sk-toggleable__control sk-hidden--visually\" id=\"sk-estimator-id-2\" type=\"checkbox\" checked><label for=\"sk-estimator-id-2\" class=\"sk-toggleable__label sk-toggleable__label-arrow\">LinearRegression</label><div class=\"sk-toggleable__content\"><pre>LinearRegression()</pre></div></div></div></div></div>"
      ],
      "text/plain": [
       "LinearRegression()"
      ]
     },
     "execution_count": 46,
     "metadata": {},
     "output_type": "execute_result"
    }
   ],
   "source": [
    "### fitting x_train and y_train on linear regression data\n",
    "ln1.fit(X_train,y_train)"
   ]
  },
  {
   "cell_type": "code",
   "execution_count": 47,
   "id": "f69e7710",
   "metadata": {},
   "outputs": [
    {
     "name": "stdout",
     "output_type": "stream",
     "text": [
      "45804.703862026305 [ 4.29560583e-01  9.16241174e+01  1.01809891e+01  2.57802465e+02\n",
      "  9.14527889e+02  2.20836623e+02  3.59103585e+02 -5.79940208e+02\n",
      " -9.62636903e+03  9.62636903e+03]\n"
     ]
    }
   ],
   "source": [
    "print(ln1.intercept_, ln1.coef_)"
   ]
  },
  {
   "cell_type": "code",
   "execution_count": 48,
   "id": "d2a10f27",
   "metadata": {},
   "outputs": [],
   "source": [
    "from sklearn.metrics import r2_score, mean_squared_error #importing r2_score and mse from sklearn"
   ]
  },
  {
   "cell_type": "code",
   "execution_count": 49,
   "id": "469087b2",
   "metadata": {},
   "outputs": [],
   "source": [
    "##predictin x and y variables\n",
    "y_test_p= ln1.predict(X_test)\n",
    "y_train_p= ln1.predict(X_train)"
   ]
  },
  {
   "cell_type": "code",
   "execution_count": 50,
   "id": "5d2ea80d",
   "metadata": {},
   "outputs": [
    {
     "data": {
      "text/plain": [
       "0.5366674761765405"
      ]
     },
     "execution_count": 50,
     "metadata": {},
     "output_type": "execute_result"
    }
   ],
   "source": [
    "r2_score(y_test, y_test_p) ###R2 of test"
   ]
  },
  {
   "cell_type": "code",
   "execution_count": 51,
   "id": "566b006b",
   "metadata": {},
   "outputs": [
    {
     "data": {
      "text/plain": [
       "0.5335038205027318"
      ]
     },
     "execution_count": 51,
     "metadata": {},
     "output_type": "execute_result"
    }
   ],
   "source": [
    "r2_score(y_train, y_train_p) ####R2 of train"
   ]
  },
  {
   "cell_type": "code",
   "execution_count": 52,
   "id": "6d6043e2",
   "metadata": {},
   "outputs": [
    {
     "data": {
      "text/plain": [
       "8291.641811462556"
      ]
     },
     "execution_count": 52,
     "metadata": {},
     "output_type": "execute_result"
    }
   ],
   "source": [
    "mean_squared_error(y_test, y_test_p, squared=False)"
   ]
  },
  {
   "cell_type": "code",
   "execution_count": 53,
   "id": "3c4dd839",
   "metadata": {},
   "outputs": [
    {
     "name": "stdout",
     "output_type": "stream",
     "text": [
      "Linear Regression:\n",
      "R-squared (R^2) - Train: 0.5366674761765405, Test: 0.5335038205027318\n",
      "Mean Squared Error (MSE) - Train: 75026071.408006, Test: 8291.641811462556\n",
      "\n"
     ]
    }
   ],
   "source": [
    "print(\"Linear Regression:\")\n",
    "print(f\"R-squared (R^2) - Train: {r2_score(y_test, y_test_p)}, Test: {r2_score(y_train, y_train_p)}\")\n",
    "print(f\"Mean Squared Error (MSE) - Train: {mean_squared_error(y_train, y_train_p)}, Test: {mean_squared_error(y_test, y_test_p, squared=False)}\\n\")"
   ]
  },
  {
   "cell_type": "code",
   "execution_count": 54,
   "id": "91e2f142",
   "metadata": {},
   "outputs": [],
   "source": [
    "from sklearn import preprocessing"
   ]
  },
  {
   "cell_type": "code",
   "execution_count": 55,
   "id": "39a2e13b",
   "metadata": {},
   "outputs": [],
   "source": [
    "scaler = preprocessing.StandardScaler().fit(X_train)\n",
    "X_train_s = scaler.transform(X_train)\n",
    "X_test_s = scaler.transform(X_test)"
   ]
  },
  {
   "cell_type": "markdown",
   "id": "2c79d324",
   "metadata": {},
   "source": [
    "# RIDGE REGRESSION"
   ]
  },
  {
   "cell_type": "code",
   "execution_count": 56,
   "id": "4c333c1e",
   "metadata": {},
   "outputs": [],
   "source": [
    "# Import the validation_curve module from scikit-learn\n",
    "from sklearn.model_selection import validation_curve"
   ]
  },
  {
   "cell_type": "code",
   "execution_count": 57,
   "id": "af7f4efc",
   "metadata": {},
   "outputs": [],
   "source": [
    "# Define a range of alpha values for Ridge regression\n",
    "param_range = np.logspace(-2, 8, 100)"
   ]
  },
  {
   "cell_type": "code",
   "execution_count": 58,
   "id": "3f00a90e",
   "metadata": {},
   "outputs": [],
   "source": [
    "# Import the Ridge regression model from scikit-learn\n",
    "from sklearn.linear_model import Ridge"
   ]
  },
  {
   "cell_type": "code",
   "execution_count": 59,
   "id": "5a224fb9",
   "metadata": {},
   "outputs": [],
   "source": [
    "# Perform cross-validated validation curve to find the best alpha for Ridge regression\n",
    "train_scores, valid_scores = validation_curve(\n",
    "    Ridge(), X_train_s, y_train, param_name=\"alpha\", param_range=param_range, cv=5, scoring='r2')"
   ]
  },
  {
   "cell_type": "code",
   "execution_count": 60,
   "id": "2f931bcc",
   "metadata": {},
   "outputs": [],
   "source": [
    "# Calculate mean R-squared scores for training and validation sets\n",
    "train_mean = np.mean(train_scores, axis = 1)\n",
    "test_mean = np.mean(valid_scores, axis = 1)"
   ]
  },
  {
   "cell_type": "code",
   "execution_count": 61,
   "id": "0ac92ee4",
   "metadata": {},
   "outputs": [
    {
     "data": {
      "text/plain": [
       "(array([30], dtype=int64),)"
      ]
     },
     "execution_count": 61,
     "metadata": {},
     "output_type": "execute_result"
    }
   ],
   "source": [
    "# Find the alpha value with the highest validation R-squared\n",
    "np.where(test_mean==max(test_mean))"
   ]
  },
  {
   "cell_type": "code",
   "execution_count": 62,
   "id": "81c4387d",
   "metadata": {},
   "outputs": [
    {
     "data": {
      "text/html": [
       "<style>#sk-container-id-3 {color: black;}#sk-container-id-3 pre{padding: 0;}#sk-container-id-3 div.sk-toggleable {background-color: white;}#sk-container-id-3 label.sk-toggleable__label {cursor: pointer;display: block;width: 100%;margin-bottom: 0;padding: 0.3em;box-sizing: border-box;text-align: center;}#sk-container-id-3 label.sk-toggleable__label-arrow:before {content: \"▸\";float: left;margin-right: 0.25em;color: #696969;}#sk-container-id-3 label.sk-toggleable__label-arrow:hover:before {color: black;}#sk-container-id-3 div.sk-estimator:hover label.sk-toggleable__label-arrow:before {color: black;}#sk-container-id-3 div.sk-toggleable__content {max-height: 0;max-width: 0;overflow: hidden;text-align: left;background-color: #f0f8ff;}#sk-container-id-3 div.sk-toggleable__content pre {margin: 0.2em;color: black;border-radius: 0.25em;background-color: #f0f8ff;}#sk-container-id-3 input.sk-toggleable__control:checked~div.sk-toggleable__content {max-height: 200px;max-width: 100%;overflow: auto;}#sk-container-id-3 input.sk-toggleable__control:checked~label.sk-toggleable__label-arrow:before {content: \"▾\";}#sk-container-id-3 div.sk-estimator input.sk-toggleable__control:checked~label.sk-toggleable__label {background-color: #d4ebff;}#sk-container-id-3 div.sk-label input.sk-toggleable__control:checked~label.sk-toggleable__label {background-color: #d4ebff;}#sk-container-id-3 input.sk-hidden--visually {border: 0;clip: rect(1px 1px 1px 1px);clip: rect(1px, 1px, 1px, 1px);height: 1px;margin: -1px;overflow: hidden;padding: 0;position: absolute;width: 1px;}#sk-container-id-3 div.sk-estimator {font-family: monospace;background-color: #f0f8ff;border: 1px dotted black;border-radius: 0.25em;box-sizing: border-box;margin-bottom: 0.5em;}#sk-container-id-3 div.sk-estimator:hover {background-color: #d4ebff;}#sk-container-id-3 div.sk-parallel-item::after {content: \"\";width: 100%;border-bottom: 1px solid gray;flex-grow: 1;}#sk-container-id-3 div.sk-label:hover label.sk-toggleable__label {background-color: #d4ebff;}#sk-container-id-3 div.sk-serial::before {content: \"\";position: absolute;border-left: 1px solid gray;box-sizing: border-box;top: 0;bottom: 0;left: 50%;z-index: 0;}#sk-container-id-3 div.sk-serial {display: flex;flex-direction: column;align-items: center;background-color: white;padding-right: 0.2em;padding-left: 0.2em;position: relative;}#sk-container-id-3 div.sk-item {position: relative;z-index: 1;}#sk-container-id-3 div.sk-parallel {display: flex;align-items: stretch;justify-content: center;background-color: white;position: relative;}#sk-container-id-3 div.sk-item::before, #sk-container-id-3 div.sk-parallel-item::before {content: \"\";position: absolute;border-left: 1px solid gray;box-sizing: border-box;top: 0;bottom: 0;left: 50%;z-index: -1;}#sk-container-id-3 div.sk-parallel-item {display: flex;flex-direction: column;z-index: 1;position: relative;background-color: white;}#sk-container-id-3 div.sk-parallel-item:first-child::after {align-self: flex-end;width: 50%;}#sk-container-id-3 div.sk-parallel-item:last-child::after {align-self: flex-start;width: 50%;}#sk-container-id-3 div.sk-parallel-item:only-child::after {width: 0;}#sk-container-id-3 div.sk-dashed-wrapped {border: 1px dashed gray;margin: 0 0.4em 0.5em 0.4em;box-sizing: border-box;padding-bottom: 0.4em;background-color: white;}#sk-container-id-3 div.sk-label label {font-family: monospace;font-weight: bold;display: inline-block;line-height: 1.2em;}#sk-container-id-3 div.sk-label-container {text-align: center;}#sk-container-id-3 div.sk-container {/* jupyter's `normalize.less` sets `[hidden] { display: none; }` but bootstrap.min.css set `[hidden] { display: none !important; }` so we also need the `!important` here to be able to override the default hidden behavior on the sphinx rendered scikit-learn.org. See: https://github.com/scikit-learn/scikit-learn/issues/21755 */display: inline-block !important;position: relative;}#sk-container-id-3 div.sk-text-repr-fallback {display: none;}</style><div id=\"sk-container-id-3\" class=\"sk-top-container\"><div class=\"sk-text-repr-fallback\"><pre>Ridge(alpha=10.722672220103231)</pre><b>In a Jupyter environment, please rerun this cell to show the HTML representation or trust the notebook. <br />On GitHub, the HTML representation is unable to render, please try loading this page with nbviewer.org.</b></div><div class=\"sk-container\" hidden><div class=\"sk-item\"><div class=\"sk-estimator sk-toggleable\"><input class=\"sk-toggleable__control sk-hidden--visually\" id=\"sk-estimator-id-3\" type=\"checkbox\" checked><label for=\"sk-estimator-id-3\" class=\"sk-toggleable__label sk-toggleable__label-arrow\">Ridge</label><div class=\"sk-toggleable__content\"><pre>Ridge(alpha=10.722672220103231)</pre></div></div></div></div></div>"
      ],
      "text/plain": [
       "Ridge(alpha=10.722672220103231)"
      ]
     },
     "execution_count": 62,
     "metadata": {},
     "output_type": "execute_result"
    }
   ],
   "source": [
    "# Train a Ridge regression model with the best alpha\n",
    "ln1_best = Ridge(alpha = param_range[30])\n",
    "ln1_best.fit(X_train_s, y_train)"
   ]
  },
  {
   "cell_type": "code",
   "execution_count": 63,
   "id": "026b33dc",
   "metadata": {},
   "outputs": [
    {
     "data": {
      "text/plain": [
       "array([98331.65213125, 74120.26894224, 79229.31588627, ...,\n",
       "       70680.40885808, 66376.90041009, 64144.8483454 ])"
      ]
     },
     "execution_count": 63,
     "metadata": {},
     "output_type": "execute_result"
    }
   ],
   "source": [
    "ln1_best.predict(X_train_s)"
   ]
  },
  {
   "cell_type": "code",
   "execution_count": 64,
   "id": "d271acfc",
   "metadata": {},
   "outputs": [
    {
     "data": {
      "text/plain": [
       "array([69103.28263809, 64254.92417147, 63739.1987679 , 71997.22260219,\n",
       "       76667.23898114, 88736.7373297 , 69246.81305502, 71367.44793289,\n",
       "       70966.53770842, 73630.39004638, 72270.28419405, 78582.53843415,\n",
       "       85420.11764726, 78099.31373499, 77076.09690345, 93960.65913441,\n",
       "       66399.76146096, 69039.14616283, 67285.91677749, 81781.55800355,\n",
       "       91142.40110084, 96544.64265718, 71209.10742538, 67484.23493064,\n",
       "       72583.82876218, 68306.86966018, 73627.68526001, 94500.90500035,\n",
       "       72140.0835308 , 74401.32869792, 69008.9370696 , 69955.32641021,\n",
       "       85470.02498289, 80538.31021215, 98658.07904935, 80318.9172221 ,\n",
       "       71372.26418478, 80785.57411537, 74026.58408362, 65823.81578572,\n",
       "       71501.43381754, 87862.27298079, 73034.37606993, 67860.19249436,\n",
       "       74959.93622992, 78195.69964275, 86488.59623627, 68172.6897819 ,\n",
       "       69486.6170619 , 76639.13033968, 90152.08016158, 69753.65076428,\n",
       "       91551.02088016, 73119.99725431, 89839.82154365, 69491.02764058,\n",
       "       68431.76351639, 89663.19225667, 69326.09714935, 69519.89948016,\n",
       "       74325.11995948, 74063.6262232 , 70006.06436459, 69016.26051473,\n",
       "       63944.47890061, 74815.89863142, 65647.80636524, 63667.73768692,\n",
       "       91318.94458293, 74283.06718959, 71364.18599597, 75080.20323668,\n",
       "       72407.65068169, 75142.0708699 , 72449.27652343, 74399.81125296,\n",
       "       71440.50027675, 70952.62411782, 70754.9322229 , 67579.33225337,\n",
       "       93090.38097293, 75655.8811552 , 74120.26894224, 79018.52566951,\n",
       "       68762.05043817, 68232.02644738, 69024.58503958, 67376.48442863,\n",
       "       81613.70341793, 92263.65812804, 74889.30652128, 71208.25963704,\n",
       "       76433.430935  , 89839.82154365, 67442.81779461, 64631.25573353,\n",
       "       68237.8716698 , 82322.92368918, 89386.76786787, 72914.39730505,\n",
       "       73061.25831163, 73394.1589204 , 65357.177516  , 66862.28003563,\n",
       "       85817.94416979, 62756.29226029, 92151.84359413, 83905.08665058,\n",
       "       91119.36671747, 75966.08376016, 82041.49195036, 75156.67372975,\n",
       "       82933.43530494, 71798.77028281, 74608.54658112, 87891.94079574,\n",
       "       87640.41894742, 70310.64704277, 69744.22428965, 73657.77635383,\n",
       "       84198.90136637, 92379.49273492, 72535.2750312 , 82761.19654172,\n",
       "       77957.43385558, 75267.38428049, 78150.97041513, 69312.5510499 ,\n",
       "       65454.14698187, 68074.23630003, 76660.16558768, 82877.28245494,\n",
       "       73774.4845855 , 70238.0150352 , 86488.18724723, 76833.92728042,\n",
       "       76417.81031447, 66538.37342057, 94315.50720103, 74369.44990787,\n",
       "       67233.54052285, 89123.05598442, 69226.35534329, 63515.84393376,\n",
       "       94708.95227364, 78614.60197299, 76010.59641318, 62109.89625156,\n",
       "       69745.99172678, 69464.53684897, 63650.43928253, 76155.27429498,\n",
       "       91837.69347106, 87709.1680176 , 71397.06641903, 70281.25913486,\n",
       "       78323.58948233, 68889.67933333, 70601.27830379, 69510.47386386,\n",
       "       67644.17588643, 74638.76014961, 72016.30001881, 72570.74727709,\n",
       "       73720.71345512, 75103.27041801, 84412.08211548, 75700.04463103,\n",
       "       92662.18140967, 70006.27763937, 72184.83342862, 70736.65625762,\n",
       "       91631.54054977, 65411.5299205 , 73304.55884276, 74146.77817808,\n",
       "       68882.33851819, 86255.5323386 , 74866.20570787, 91169.2459476 ,\n",
       "       62930.46147587, 75949.22897291, 72653.32767445, 96823.49640031,\n",
       "       74481.32697704, 96329.68165648, 68427.45535452, 73700.06623904,\n",
       "       74825.59939247, 73292.97504889, 64317.64334542, 71984.15689053,\n",
       "       73502.17589544, 68417.9094497 , 90911.92604281, 69091.17742837,\n",
       "       98990.64349774, 77243.12102818, 66033.04711034, 68759.19311787,\n",
       "       74104.04349723, 91292.09973617, 79032.50820644, 68327.42893757,\n",
       "       66368.48747966, 72452.3181564 , 74676.00673697, 67011.99344895,\n",
       "       97711.29333352, 66715.34036607, 66142.49143945, 98906.28615269,\n",
       "       80546.42088942, 66511.5285738 , 70657.47581064, 75319.48196195,\n",
       "       66683.24970546, 78372.15741284, 74017.50433156, 70748.2436177 ,\n",
       "       70737.44167587, 65776.57331873, 93546.23364867, 76505.98422629,\n",
       "       63044.6081066 , 75696.72052538, 77002.66425561, 64916.6603032 ,\n",
       "       67880.6987426 , 65734.4655141 , 93165.29929149, 68078.2233217 ,\n",
       "       74293.93906313, 89531.07933309, 74684.30917509, 77655.45345273,\n",
       "       70633.1519868 , 79422.0357116 , 75614.96233497, 73037.78697118,\n",
       "       74568.61937016, 88663.65193177, 74444.46213697, 74691.0040437 ,\n",
       "       84487.26623946, 94561.39509388, 62392.5446601 , 75000.02703853,\n",
       "       86530.40414457, 69479.50627264, 62487.49280198, 70378.28080374,\n",
       "       73545.06817339, 72916.11102032, 76955.41595557, 86488.18724723,\n",
       "       67043.37310976, 68053.74813255, 65098.51018688, 83331.59135315,\n",
       "       70633.86988548, 76527.5700082 , 68348.63816827, 96828.44168058,\n",
       "       67922.62159674, 75110.47099953, 77011.49877369, 75450.52848271,\n",
       "       79191.84823945, 72729.99107053, 76376.29891025, 88503.49394136,\n",
       "       66610.83986903, 67919.28308344, 75553.02940888, 71401.43941781,\n",
       "       67187.46311196, 65657.58073418, 68765.0829033 , 75809.00040107,\n",
       "       67922.62159674, 80274.95676738, 68381.09393911, 66651.26466958,\n",
       "       88432.35660567, 69488.16326995, 73430.43711457, 69766.1137579 ,\n",
       "       76758.80161902, 70911.71514611, 77272.4318198 , 90265.9532201 ,\n",
       "       87042.83215704, 64354.14269117, 72598.09762583, 72238.06308155,\n",
       "       77357.8441235 , 74758.89607199, 67096.06881936, 88307.18075484,\n",
       "       87614.13613891, 82379.52211809, 80209.50381554, 76959.85893466,\n",
       "       66695.17111798, 70989.00289824, 78675.81871391, 71007.9307003 ,\n",
       "       67248.0175373 , 72886.70131863, 70218.82676635, 69749.00607511,\n",
       "       73295.43932613, 76568.35510853, 69864.40142877, 73064.4734253 ,\n",
       "       71283.95917791, 76252.42872206])"
      ]
     },
     "execution_count": 64,
     "metadata": {},
     "output_type": "execute_result"
    }
   ],
   "source": [
    "ln1_best.predict(X_test_s)"
   ]
  },
  {
   "cell_type": "code",
   "execution_count": 65,
   "id": "ec3756d2",
   "metadata": {},
   "outputs": [
    {
     "data": {
      "text/plain": [
       "0.533488604458334"
      ]
     },
     "execution_count": 65,
     "metadata": {},
     "output_type": "execute_result"
    }
   ],
   "source": [
    "# Calculate the R-squared score\n",
    "r2_score(y_train,ln1_best.predict(X_train_s))"
   ]
  },
  {
   "cell_type": "code",
   "execution_count": 66,
   "id": "14b91985",
   "metadata": {},
   "outputs": [
    {
     "data": {
      "text/plain": [
       "0.5365825624279877"
      ]
     },
     "execution_count": 66,
     "metadata": {},
     "output_type": "execute_result"
    }
   ],
   "source": [
    "r2_score(y_test,ln1_best.predict(X_test_s))"
   ]
  },
  {
   "cell_type": "code",
   "execution_count": 67,
   "id": "fbd8968e",
   "metadata": {},
   "outputs": [
    {
     "data": {
      "text/plain": [
       "8292.401570486747"
      ]
     },
     "execution_count": 67,
     "metadata": {},
     "output_type": "execute_result"
    }
   ],
   "source": [
    "# Finding MSE value for linear regression\n",
    "mean_squared_error(y_test, ln1_best.predict(X_test_s), squared=False)"
   ]
  },
  {
   "cell_type": "code",
   "execution_count": 68,
   "id": "543e947f",
   "metadata": {},
   "outputs": [
    {
     "name": "stdout",
     "output_type": "stream",
     "text": [
      "Ridge Regression:\n",
      "R-squared (R^2) - Train: 0.533488604458334, Test: 0.5365825624279877\n",
      "Mean Squared Error (MSE) - Train: 8661.900402788033, Test: 8292.401570486747\n",
      "\n"
     ]
    }
   ],
   "source": [
    "# Print the results\n",
    "print(\"Ridge Regression:\")\n",
    "print(f\"R-squared (R^2) - Train: {r2_score(y_train,ln1_best.predict(X_train_s))}, Test: {r2_score(y_test,ln1_best.predict(X_test_s))}\")\n",
    "print(f\"Mean Squared Error (MSE) - Train: {mean_squared_error(y_train,ln1_best.predict(X_train_s), squared=False)}, Test: {mean_squared_error(y_test, ln1_best.predict(X_test_s), squared=False)}\\n\")"
   ]
  },
  {
   "cell_type": "markdown",
   "id": "b0b833c3",
   "metadata": {},
   "source": [
    "# lasso regression"
   ]
  },
  {
   "cell_type": "code",
   "execution_count": 69,
   "id": "859403d6",
   "metadata": {},
   "outputs": [],
   "source": [
    "param_range2 = np.logspace(-2,8,100)"
   ]
  },
  {
   "cell_type": "code",
   "execution_count": 70,
   "id": "665aa960",
   "metadata": {},
   "outputs": [],
   "source": [
    "# Import Lasso regression model\n",
    "from sklearn.linear_model import Lasso"
   ]
  },
  {
   "cell_type": "code",
   "execution_count": 71,
   "id": "21351569",
   "metadata": {},
   "outputs": [],
   "source": [
    "# Perform cross-validated validation curve to find the best alpha for Lasso regression\n",
    "train_score_l, valid_score_l = validation_curve(Lasso(), X_train_s, y_train, param_name=\"alpha\", param_range = param_range2, cv=5, scoring='r2')"
   ]
  },
  {
   "cell_type": "code",
   "execution_count": 72,
   "id": "57b41c81",
   "metadata": {},
   "outputs": [],
   "source": [
    "# Calculate mean R-squared scores for training and validation sets with Lasso regression\n",
    "train_mean_l = np.mean(train_score_l, axis=1)\n",
    "test_mean_l = np.mean(valid_score_l, axis=1)"
   ]
  },
  {
   "cell_type": "code",
   "execution_count": 73,
   "id": "94d0427d",
   "metadata": {},
   "outputs": [
    {
     "data": {
      "text/plain": [
       "(array([39], dtype=int64),)"
      ]
     },
     "execution_count": 73,
     "metadata": {},
     "output_type": "execute_result"
    }
   ],
   "source": [
    "# Identify the alpha value with the highest R-squared\n",
    "np.where(test_mean_l==max(test_mean_l))"
   ]
  },
  {
   "cell_type": "code",
   "execution_count": 74,
   "id": "8add5874",
   "metadata": {},
   "outputs": [
    {
     "data": {
      "text/html": [
       "<style>#sk-container-id-4 {color: black;}#sk-container-id-4 pre{padding: 0;}#sk-container-id-4 div.sk-toggleable {background-color: white;}#sk-container-id-4 label.sk-toggleable__label {cursor: pointer;display: block;width: 100%;margin-bottom: 0;padding: 0.3em;box-sizing: border-box;text-align: center;}#sk-container-id-4 label.sk-toggleable__label-arrow:before {content: \"▸\";float: left;margin-right: 0.25em;color: #696969;}#sk-container-id-4 label.sk-toggleable__label-arrow:hover:before {color: black;}#sk-container-id-4 div.sk-estimator:hover label.sk-toggleable__label-arrow:before {color: black;}#sk-container-id-4 div.sk-toggleable__content {max-height: 0;max-width: 0;overflow: hidden;text-align: left;background-color: #f0f8ff;}#sk-container-id-4 div.sk-toggleable__content pre {margin: 0.2em;color: black;border-radius: 0.25em;background-color: #f0f8ff;}#sk-container-id-4 input.sk-toggleable__control:checked~div.sk-toggleable__content {max-height: 200px;max-width: 100%;overflow: auto;}#sk-container-id-4 input.sk-toggleable__control:checked~label.sk-toggleable__label-arrow:before {content: \"▾\";}#sk-container-id-4 div.sk-estimator input.sk-toggleable__control:checked~label.sk-toggleable__label {background-color: #d4ebff;}#sk-container-id-4 div.sk-label input.sk-toggleable__control:checked~label.sk-toggleable__label {background-color: #d4ebff;}#sk-container-id-4 input.sk-hidden--visually {border: 0;clip: rect(1px 1px 1px 1px);clip: rect(1px, 1px, 1px, 1px);height: 1px;margin: -1px;overflow: hidden;padding: 0;position: absolute;width: 1px;}#sk-container-id-4 div.sk-estimator {font-family: monospace;background-color: #f0f8ff;border: 1px dotted black;border-radius: 0.25em;box-sizing: border-box;margin-bottom: 0.5em;}#sk-container-id-4 div.sk-estimator:hover {background-color: #d4ebff;}#sk-container-id-4 div.sk-parallel-item::after {content: \"\";width: 100%;border-bottom: 1px solid gray;flex-grow: 1;}#sk-container-id-4 div.sk-label:hover label.sk-toggleable__label {background-color: #d4ebff;}#sk-container-id-4 div.sk-serial::before {content: \"\";position: absolute;border-left: 1px solid gray;box-sizing: border-box;top: 0;bottom: 0;left: 50%;z-index: 0;}#sk-container-id-4 div.sk-serial {display: flex;flex-direction: column;align-items: center;background-color: white;padding-right: 0.2em;padding-left: 0.2em;position: relative;}#sk-container-id-4 div.sk-item {position: relative;z-index: 1;}#sk-container-id-4 div.sk-parallel {display: flex;align-items: stretch;justify-content: center;background-color: white;position: relative;}#sk-container-id-4 div.sk-item::before, #sk-container-id-4 div.sk-parallel-item::before {content: \"\";position: absolute;border-left: 1px solid gray;box-sizing: border-box;top: 0;bottom: 0;left: 50%;z-index: -1;}#sk-container-id-4 div.sk-parallel-item {display: flex;flex-direction: column;z-index: 1;position: relative;background-color: white;}#sk-container-id-4 div.sk-parallel-item:first-child::after {align-self: flex-end;width: 50%;}#sk-container-id-4 div.sk-parallel-item:last-child::after {align-self: flex-start;width: 50%;}#sk-container-id-4 div.sk-parallel-item:only-child::after {width: 0;}#sk-container-id-4 div.sk-dashed-wrapped {border: 1px dashed gray;margin: 0 0.4em 0.5em 0.4em;box-sizing: border-box;padding-bottom: 0.4em;background-color: white;}#sk-container-id-4 div.sk-label label {font-family: monospace;font-weight: bold;display: inline-block;line-height: 1.2em;}#sk-container-id-4 div.sk-label-container {text-align: center;}#sk-container-id-4 div.sk-container {/* jupyter's `normalize.less` sets `[hidden] { display: none; }` but bootstrap.min.css set `[hidden] { display: none !important; }` so we also need the `!important` here to be able to override the default hidden behavior on the sphinx rendered scikit-learn.org. See: https://github.com/scikit-learn/scikit-learn/issues/21755 */display: inline-block !important;position: relative;}#sk-container-id-4 div.sk-text-repr-fallback {display: none;}</style><div id=\"sk-container-id-4\" class=\"sk-top-container\"><div class=\"sk-text-repr-fallback\"><pre>Lasso(alpha=86.97490026177834)</pre><b>In a Jupyter environment, please rerun this cell to show the HTML representation or trust the notebook. <br />On GitHub, the HTML representation is unable to render, please try loading this page with nbviewer.org.</b></div><div class=\"sk-container\" hidden><div class=\"sk-item\"><div class=\"sk-estimator sk-toggleable\"><input class=\"sk-toggleable__control sk-hidden--visually\" id=\"sk-estimator-id-4\" type=\"checkbox\" checked><label for=\"sk-estimator-id-4\" class=\"sk-toggleable__label sk-toggleable__label-arrow\">Lasso</label><div class=\"sk-toggleable__content\"><pre>Lasso(alpha=86.97490026177834)</pre></div></div></div></div></div>"
      ],
      "text/plain": [
       "Lasso(alpha=86.97490026177834)"
      ]
     },
     "execution_count": 74,
     "metadata": {},
     "output_type": "execute_result"
    }
   ],
   "source": [
    "# Train a Lasso regression model with the best alpha\n",
    "ln2_best = Lasso(alpha = param_range2[39])\n",
    "ln2_best.fit(X_train_s, y_train)"
   ]
  },
  {
   "cell_type": "code",
   "execution_count": 75,
   "id": "916279c1",
   "metadata": {},
   "outputs": [
    {
     "data": {
      "text/plain": [
       "array([97926.33028565, 74214.8559853 , 79240.62162971, ...,\n",
       "       70535.51110735, 66629.84078582, 64276.35722756])"
      ]
     },
     "execution_count": 75,
     "metadata": {},
     "output_type": "execute_result"
    }
   ],
   "source": [
    "ln2_best.predict(X_train_s)"
   ]
  },
  {
   "cell_type": "code",
   "execution_count": 76,
   "id": "fe1c4b1a",
   "metadata": {},
   "outputs": [
    {
     "data": {
      "text/plain": [
       "array([69019.33032291, 64390.06576342, 63587.2886881 , 72168.23895861,\n",
       "       76608.99099052, 88923.59188014, 69305.93123459, 71482.29953649,\n",
       "       71156.09669352, 73843.1402233 , 72395.87185541, 78532.57717035,\n",
       "       85585.80902691, 78179.48006681, 77061.46073093, 93557.9970026 ,\n",
       "       66167.63000471, 68833.72679837, 67322.22318288, 81421.47961899,\n",
       "       90865.88318109, 96313.78528565, 71379.22942132, 67397.85119205,\n",
       "       72740.5043779 , 68336.08005293, 73549.59047391, 94164.93036187,\n",
       "       72405.75742872, 74438.23200467, 69004.49132446, 69881.85187782,\n",
       "       85353.24821954, 80530.92244898, 98338.45414735, 79983.04382109,\n",
       "       71297.36650121, 80933.92201416, 73822.63298583, 66086.05508966,\n",
       "       71650.29702114, 87694.8452489 , 73132.59902275, 67701.38253863,\n",
       "       74871.04680053, 77932.03161175, 86763.15262692, 67921.9813633 ,\n",
       "       69531.19869709, 76658.40007527, 89887.58627483, 69813.32102187,\n",
       "       91435.46041473, 73086.55418568, 89463.84928655, 69680.94831651,\n",
       "       68141.01548021, 89545.8375887 , 68990.49137202, 69662.05208724,\n",
       "       74180.99368875, 74215.43100667, 69913.888866  , 68851.61564673,\n",
       "       64007.78026186, 74829.82691472, 65852.23329815, 63771.52411358,\n",
       "       91295.55377305, 74176.79105713, 71436.89727171, 74888.05467179,\n",
       "       72426.86558859, 74975.16078671, 72361.38153196, 74649.59618687,\n",
       "       71214.38946338, 71011.46656929, 70615.56803337, 67572.78149399,\n",
       "       92666.00579275, 75801.22618036, 74214.8559853 , 79166.4593281 ,\n",
       "       68627.59260754, 68476.91413026, 68983.30115169, 67337.82172254,\n",
       "       81262.9586921 , 92245.20230052, 74937.93864572, 71392.00501277,\n",
       "       76201.49296896, 89463.84928655, 67642.06648093, 64659.26171568,\n",
       "       68225.07602466, 81906.17102538, 89458.52397986, 72966.23055969,\n",
       "       72956.34751468, 73334.22574179, 65622.17308116, 66835.53612544,\n",
       "       85694.12507389, 62900.60391957, 92021.82113473, 84115.09500591,\n",
       "       90940.08870353, 76150.79193374, 81813.05786004, 75239.94116273,\n",
       "       83021.16644003, 71916.80822395, 74602.88098314, 87792.93380096,\n",
       "       87472.72621951, 70443.83860671, 69770.46049751, 73594.51470397,\n",
       "       83772.72160747, 92197.29119552, 72396.89309316, 83005.26276601,\n",
       "       77857.74099163, 75217.29439558, 78035.76200428, 69211.1916816 ,\n",
       "       65468.06511241, 68196.29882729, 76593.82219859, 83026.52186204,\n",
       "       74044.93225337, 70372.47598442, 86396.11659962, 76847.4198549 ,\n",
       "       76375.08610031, 66361.88645671, 94149.76698611, 74538.63919055,\n",
       "       67535.53562838, 88958.43157467, 69398.29542235, 63711.8742523 ,\n",
       "       94675.71184837, 78330.6000492 , 75741.1594006 , 62572.36059535,\n",
       "       69916.80701038, 69551.0854861 , 63715.38718783, 76072.58320472,\n",
       "       91609.81365233, 87829.06643554, 71325.7159871 , 70581.29165359,\n",
       "       78286.62374679, 69045.09173917, 70490.50706405, 69393.95481118,\n",
       "       67829.3670847 , 74618.15318622, 71773.75268279, 72605.99461035,\n",
       "       73716.45589633, 75304.85945469, 84344.93935312, 75584.41375831,\n",
       "       92326.76766824, 70309.68211674, 72054.96198861, 70949.78908152,\n",
       "       91167.29797898, 65500.83775369, 73070.37949428, 74354.38726783,\n",
       "       68870.77839479, 86480.12586821, 75076.19189238, 90809.36664711,\n",
       "       63231.61050943, 76149.97882945, 72904.09460574, 96903.03448083,\n",
       "       74378.15319768, 95703.94910303, 68751.25950293, 73900.75771598,\n",
       "       74680.84004483, 73518.43139476, 64709.61566214, 72248.67605815,\n",
       "       73517.73662052, 68656.03603034, 91102.70378317, 69212.03220958,\n",
       "       98926.99567087, 77200.41627908, 66124.9088661 , 68709.93094894,\n",
       "       74345.1694464 , 91352.07030703, 78790.29083533, 68508.26863281,\n",
       "       66398.77520995, 72328.93372348, 74929.79214175, 67004.19146542,\n",
       "       97521.42299372, 66774.12053244, 66263.10715376, 98415.89645713,\n",
       "       80257.64614902, 66418.40299069, 70582.93152054, 75405.82109411,\n",
       "       66694.98603675, 78382.65255096, 73840.9415106 , 70724.46001214,\n",
       "       70571.43872339, 66002.57156669, 93407.3118214 , 76600.80615966,\n",
       "       63315.56347777, 75894.17965595, 77094.41273555, 64865.45530018,\n",
       "       67592.9331223 , 65937.86184382, 93198.49986558, 68315.03975819,\n",
       "       74130.2717222 , 89255.17877859, 74720.18857626, 77540.91422361,\n",
       "       70673.26166083, 79266.40670917, 75308.21585663, 73038.95126362,\n",
       "       74373.37423799, 88595.40130233, 74454.04956478, 74677.3271093 ,\n",
       "       84616.61794824, 94304.21487754, 62429.19915162, 74657.53609549,\n",
       "       86552.3661247 , 69749.27065163, 62710.43837705, 70223.17663671,\n",
       "       73567.30613036, 72898.15223914, 76700.14307473, 86396.11659962,\n",
       "       67044.10443707, 67949.67246767, 65356.57415076, 83076.55674286,\n",
       "       70728.82242809, 76270.42489438, 68386.59284406, 96589.0950307 ,\n",
       "       68006.71274596, 74834.12382882, 77022.9911682 , 75252.93903057,\n",
       "       79023.11066067, 72879.91108113, 76311.85710463, 88466.56556555,\n",
       "       66560.17401719, 67853.40366649, 75518.16495145, 71161.07052911,\n",
       "       67227.98897714, 65847.31596108, 68531.75853611, 75960.57116701,\n",
       "       68006.71274596, 80164.04107245, 68458.55050467, 66564.2875902 ,\n",
       "       88403.67429652, 69789.95726141, 73678.14960874, 69913.56581869,\n",
       "       76519.55733064, 71001.96098313, 77043.59505766, 90103.01028333,\n",
       "       86895.06336614, 64320.8609642 , 72471.05083734, 72120.21850005,\n",
       "       76850.10323923, 74553.12949856, 67250.00390531, 87850.10716332,\n",
       "       87357.76211175, 82193.66535111, 79964.05358317, 76565.76698754,\n",
       "       66691.86434872, 71175.63325866, 78269.16465428, 71173.52714444,\n",
       "       67087.60898047, 72823.89666499, 69923.44731826, 69846.27980561,\n",
       "       73352.94249937, 76650.60672367, 69997.0526015 , 73061.554896  ,\n",
       "       71287.08820179, 76353.38135828])"
      ]
     },
     "execution_count": 76,
     "metadata": {},
     "output_type": "execute_result"
    }
   ],
   "source": [
    "ln2_best.predict(X_test_s)"
   ]
  },
  {
   "cell_type": "code",
   "execution_count": 77,
   "id": "58477c80",
   "metadata": {},
   "outputs": [
    {
     "data": {
      "text/plain": [
       "0.5331672792979155"
      ]
     },
     "execution_count": 77,
     "metadata": {},
     "output_type": "execute_result"
    }
   ],
   "source": [
    " r2_score(y_train, ln2_best.predict(X_train_s))"
   ]
  },
  {
   "cell_type": "code",
   "execution_count": 78,
   "id": "b0153ea9",
   "metadata": {},
   "outputs": [
    {
     "data": {
      "text/plain": [
       "68643390.18170552"
      ]
     },
     "execution_count": 78,
     "metadata": {},
     "output_type": "execute_result"
    }
   ],
   "source": [
    "mean_squared_error(y_test, ln2_best.predict(X_test_s))"
   ]
  },
  {
   "cell_type": "code",
   "execution_count": 79,
   "id": "2a9f14f0",
   "metadata": {},
   "outputs": [
    {
     "name": "stdout",
     "output_type": "stream",
     "text": [
      "Lasso Regression:\n",
      "R-squared (R^2) - Train: 0.5331672792979155, Test: 0.5373948689445129\n",
      "Mean Squared Error (MSE) - Train: 75080196.96267076, Test: 68643390.18170552\n",
      "\n"
     ]
    }
   ],
   "source": [
    "# Print the results\n",
    "print(\"Lasso Regression:\")\n",
    "print(f\"R-squared (R^2) - Train: { r2_score(y_train, ln2_best.predict(X_train_s))}, Test: {r2_score(y_test, ln2_best.predict(X_test_s))}\")\n",
    "print(f\"Mean Squared Error (MSE) - Train: {mean_squared_error(y_train, ln2_best.predict(X_train_s))}, Test: {mean_squared_error(y_test, ln2_best.predict(X_test_s))}\\n\")"
   ]
  },
  {
   "cell_type": "markdown",
   "id": "22fb139a",
   "metadata": {},
   "source": [
    "# DECISION TREE REGRESSION "
   ]
  },
  {
   "cell_type": "code",
   "execution_count": 80,
   "id": "f2ef0555",
   "metadata": {},
   "outputs": [],
   "source": [
    "from sklearn import tree"
   ]
  },
  {
   "cell_type": "code",
   "execution_count": 81,
   "id": "9b89e939",
   "metadata": {},
   "outputs": [],
   "source": [
    "# Create a DecisionTreeRegressor with a maximum depth of 3\n",
    "regtree = tree.DecisionTreeRegressor(max_depth = 3)"
   ]
  },
  {
   "cell_type": "code",
   "execution_count": 82,
   "id": "856053dd",
   "metadata": {},
   "outputs": [
    {
     "data": {
      "text/html": [
       "<style>#sk-container-id-5 {color: black;}#sk-container-id-5 pre{padding: 0;}#sk-container-id-5 div.sk-toggleable {background-color: white;}#sk-container-id-5 label.sk-toggleable__label {cursor: pointer;display: block;width: 100%;margin-bottom: 0;padding: 0.3em;box-sizing: border-box;text-align: center;}#sk-container-id-5 label.sk-toggleable__label-arrow:before {content: \"▸\";float: left;margin-right: 0.25em;color: #696969;}#sk-container-id-5 label.sk-toggleable__label-arrow:hover:before {color: black;}#sk-container-id-5 div.sk-estimator:hover label.sk-toggleable__label-arrow:before {color: black;}#sk-container-id-5 div.sk-toggleable__content {max-height: 0;max-width: 0;overflow: hidden;text-align: left;background-color: #f0f8ff;}#sk-container-id-5 div.sk-toggleable__content pre {margin: 0.2em;color: black;border-radius: 0.25em;background-color: #f0f8ff;}#sk-container-id-5 input.sk-toggleable__control:checked~div.sk-toggleable__content {max-height: 200px;max-width: 100%;overflow: auto;}#sk-container-id-5 input.sk-toggleable__control:checked~label.sk-toggleable__label-arrow:before {content: \"▾\";}#sk-container-id-5 div.sk-estimator input.sk-toggleable__control:checked~label.sk-toggleable__label {background-color: #d4ebff;}#sk-container-id-5 div.sk-label input.sk-toggleable__control:checked~label.sk-toggleable__label {background-color: #d4ebff;}#sk-container-id-5 input.sk-hidden--visually {border: 0;clip: rect(1px 1px 1px 1px);clip: rect(1px, 1px, 1px, 1px);height: 1px;margin: -1px;overflow: hidden;padding: 0;position: absolute;width: 1px;}#sk-container-id-5 div.sk-estimator {font-family: monospace;background-color: #f0f8ff;border: 1px dotted black;border-radius: 0.25em;box-sizing: border-box;margin-bottom: 0.5em;}#sk-container-id-5 div.sk-estimator:hover {background-color: #d4ebff;}#sk-container-id-5 div.sk-parallel-item::after {content: \"\";width: 100%;border-bottom: 1px solid gray;flex-grow: 1;}#sk-container-id-5 div.sk-label:hover label.sk-toggleable__label {background-color: #d4ebff;}#sk-container-id-5 div.sk-serial::before {content: \"\";position: absolute;border-left: 1px solid gray;box-sizing: border-box;top: 0;bottom: 0;left: 50%;z-index: 0;}#sk-container-id-5 div.sk-serial {display: flex;flex-direction: column;align-items: center;background-color: white;padding-right: 0.2em;padding-left: 0.2em;position: relative;}#sk-container-id-5 div.sk-item {position: relative;z-index: 1;}#sk-container-id-5 div.sk-parallel {display: flex;align-items: stretch;justify-content: center;background-color: white;position: relative;}#sk-container-id-5 div.sk-item::before, #sk-container-id-5 div.sk-parallel-item::before {content: \"\";position: absolute;border-left: 1px solid gray;box-sizing: border-box;top: 0;bottom: 0;left: 50%;z-index: -1;}#sk-container-id-5 div.sk-parallel-item {display: flex;flex-direction: column;z-index: 1;position: relative;background-color: white;}#sk-container-id-5 div.sk-parallel-item:first-child::after {align-self: flex-end;width: 50%;}#sk-container-id-5 div.sk-parallel-item:last-child::after {align-self: flex-start;width: 50%;}#sk-container-id-5 div.sk-parallel-item:only-child::after {width: 0;}#sk-container-id-5 div.sk-dashed-wrapped {border: 1px dashed gray;margin: 0 0.4em 0.5em 0.4em;box-sizing: border-box;padding-bottom: 0.4em;background-color: white;}#sk-container-id-5 div.sk-label label {font-family: monospace;font-weight: bold;display: inline-block;line-height: 1.2em;}#sk-container-id-5 div.sk-label-container {text-align: center;}#sk-container-id-5 div.sk-container {/* jupyter's `normalize.less` sets `[hidden] { display: none; }` but bootstrap.min.css set `[hidden] { display: none !important; }` so we also need the `!important` here to be able to override the default hidden behavior on the sphinx rendered scikit-learn.org. See: https://github.com/scikit-learn/scikit-learn/issues/21755 */display: inline-block !important;position: relative;}#sk-container-id-5 div.sk-text-repr-fallback {display: none;}</style><div id=\"sk-container-id-5\" class=\"sk-top-container\"><div class=\"sk-text-repr-fallback\"><pre>DecisionTreeRegressor(max_depth=3)</pre><b>In a Jupyter environment, please rerun this cell to show the HTML representation or trust the notebook. <br />On GitHub, the HTML representation is unable to render, please try loading this page with nbviewer.org.</b></div><div class=\"sk-container\" hidden><div class=\"sk-item\"><div class=\"sk-estimator sk-toggleable\"><input class=\"sk-toggleable__control sk-hidden--visually\" id=\"sk-estimator-id-5\" type=\"checkbox\" checked><label for=\"sk-estimator-id-5\" class=\"sk-toggleable__label sk-toggleable__label-arrow\">DecisionTreeRegressor</label><div class=\"sk-toggleable__content\"><pre>DecisionTreeRegressor(max_depth=3)</pre></div></div></div></div></div>"
      ],
      "text/plain": [
       "DecisionTreeRegressor(max_depth=3)"
      ]
     },
     "execution_count": 82,
     "metadata": {},
     "output_type": "execute_result"
    }
   ],
   "source": [
    "regtree.fit(X_train, y_train)"
   ]
  },
  {
   "cell_type": "code",
   "execution_count": 83,
   "id": "3ec6d263",
   "metadata": {},
   "outputs": [],
   "source": [
    "y_train_pred = regtree.predict(X_train)\n",
    "y_test_pred = regtree.predict(X_test)"
   ]
  },
  {
   "cell_type": "code",
   "execution_count": 84,
   "id": "f69b419f",
   "metadata": {},
   "outputs": [
    {
     "data": {
      "text/plain": [
       "array([ 73242.49487805,  67137.92249315,  67137.92249315,  77249.90582677,\n",
       "        73242.49487805,  87264.44514286,  70080.03361607,  73242.49487805,\n",
       "        67137.92249315,  73242.49487805,  70080.03361607,  77249.90582677,\n",
       "        95311.75026316,  77249.90582677,  73242.49487805, 104985.9661039 ,\n",
       "        67137.92249315,  67137.92249315,  67137.92249315,  77249.90582677,\n",
       "       104985.9661039 , 104985.9661039 ,  67137.92249315,  67137.92249315,\n",
       "        70080.03361607,  67137.92249315,  77249.90582677, 104985.9661039 ,\n",
       "        77249.90582677,  73242.49487805,  67137.92249315,  67137.92249315,\n",
       "        77180.13443038,  77249.90582677, 104985.9661039 ,  77249.90582677,\n",
       "        67137.92249315,  77180.13443038,  67137.92249315,  67137.92249315,\n",
       "        67137.92249315,  77180.13443038,  73242.49487805,  67137.92249315,\n",
       "        77249.90582677,  70080.03361607,  77180.13443038,  67137.92249315,\n",
       "        67137.92249315,  73242.49487805,  95311.75026316,  77249.90582677,\n",
       "       104985.9661039 ,  77249.90582677,  95311.75026316,  67137.92249315,\n",
       "        70080.03361607,  77180.13443038,  67137.92249315,  67137.92249315,\n",
       "        77249.90582677,  77249.90582677,  70080.03361607,  67137.92249315,\n",
       "        67137.92249315,  73242.49487805,  67137.92249315,  67137.92249315,\n",
       "        95311.75026316,  73242.49487805,  70080.03361607,  67137.92249315,\n",
       "        70080.03361607,  70080.03361607,  73242.49487805,  77249.90582677,\n",
       "        70080.03361607,  70080.03361607,  70080.03361607,  67137.92249315,\n",
       "        87264.44514286,  77249.90582677,  70080.03361607,  77249.90582677,\n",
       "        70080.03361607,  70080.03361607,  67137.92249315,  67137.92249315,\n",
       "        73242.49487805, 104985.9661039 ,  77249.90582677,  70080.03361607,\n",
       "        73242.49487805,  95311.75026316,  67137.92249315,  67137.92249315,\n",
       "        67137.92249315,  77249.90582677, 104985.9661039 ,  73242.49487805,\n",
       "        67137.92249315,  67137.92249315,  67137.92249315,  67137.92249315,\n",
       "        77180.13443038,  67137.92249315,  95311.75026316,  87264.44514286,\n",
       "        77180.13443038,  73242.49487805,  77249.90582677,  73242.49487805,\n",
       "        77180.13443038,  67137.92249315,  70080.03361607,  95311.75026316,\n",
       "        95311.75026316,  70080.03361607,  67137.92249315,  73242.49487805,\n",
       "        77180.13443038, 104985.9661039 ,  67137.92249315,  77180.13443038,\n",
       "        77249.90582677,  77249.90582677,  73242.49487805,  67137.92249315,\n",
       "        67137.92249315,  67137.92249315,  73242.49487805,  77180.13443038,\n",
       "        77249.90582677,  70080.03361607,  77180.13443038,  77249.90582677,\n",
       "        77249.90582677,  67137.92249315, 104985.9661039 ,  73242.49487805,\n",
       "        67137.92249315,  95311.75026316,  70080.03361607,  67137.92249315,\n",
       "        87264.44514286,  77249.90582677,  77249.90582677,  67137.92249315,\n",
       "        67137.92249315,  67137.92249315,  67137.92249315,  77249.90582677,\n",
       "        87264.44514286,  77180.13443038,  67137.92249315,  67137.92249315,\n",
       "        77249.90582677,  67137.92249315,  70080.03361607,  70080.03361607,\n",
       "        67137.92249315,  77249.90582677,  73242.49487805,  70080.03361607,\n",
       "        70080.03361607,  77249.90582677,  87264.44514286,  77249.90582677,\n",
       "        87264.44514286,  67137.92249315,  67137.92249315,  70080.03361607,\n",
       "        87264.44514286,  67137.92249315,  67137.92249315,  77249.90582677,\n",
       "        67137.92249315,  77180.13443038,  77249.90582677, 104985.9661039 ,\n",
       "        67137.92249315,  77249.90582677,  73242.49487805, 104985.9661039 ,\n",
       "        73242.49487805,  87264.44514286,  67137.92249315,  67137.92249315,\n",
       "        73242.49487805,  73242.49487805,  67137.92249315,  73242.49487805,\n",
       "        77249.90582677,  67137.92249315,  95311.75026316,  73242.49487805,\n",
       "       104985.9661039 ,  77249.90582677,  70080.03361607,  67137.92249315,\n",
       "        73242.49487805,  95311.75026316,  77249.90582677,  67137.92249315,\n",
       "        67137.92249315,  73242.49487805,  73242.49487805,  67137.92249315,\n",
       "       104985.9661039 ,  67137.92249315,  67137.92249315, 104985.9661039 ,\n",
       "        77249.90582677,  67137.92249315,  67137.92249315,  77249.90582677,\n",
       "        67137.92249315,  77249.90582677,  77249.90582677,  73242.49487805,\n",
       "        67137.92249315,  67137.92249315, 104985.9661039 ,  77249.90582677,\n",
       "        67137.92249315,  77249.90582677,  77249.90582677,  67137.92249315,\n",
       "        67137.92249315,  67137.92249315,  77180.13443038,  67137.92249315,\n",
       "        70080.03361607,  87264.44514286,  77249.90582677,  73242.49487805,\n",
       "        67137.92249315,  77249.90582677,  77249.90582677,  73242.49487805,\n",
       "        70080.03361607,  77180.13443038,  73242.49487805,  73242.49487805,\n",
       "        77180.13443038, 104985.9661039 ,  67137.92249315,  77249.90582677,\n",
       "        87264.44514286,  67137.92249315,  67137.92249315,  67137.92249315,\n",
       "        77249.90582677,  77249.90582677,  77249.90582677,  77180.13443038,\n",
       "        67137.92249315,  70080.03361607,  67137.92249315,  77249.90582677,\n",
       "        73242.49487805,  73242.49487805,  67137.92249315, 104985.9661039 ,\n",
       "        67137.92249315,  67137.92249315,  77249.90582677,  77249.90582677,\n",
       "        77249.90582677,  77249.90582677,  77249.90582677,  95311.75026316,\n",
       "        67137.92249315,  70080.03361607,  77249.90582677,  67137.92249315,\n",
       "        73242.49487805,  67137.92249315,  67137.92249315,  77249.90582677,\n",
       "        67137.92249315,  73242.49487805,  67137.92249315,  67137.92249315,\n",
       "        87264.44514286,  67137.92249315,  73242.49487805,  70080.03361607,\n",
       "        77249.90582677,  70080.03361607,  73242.49487805,  87264.44514286,\n",
       "        95311.75026316,  67137.92249315,  77249.90582677,  77249.90582677,\n",
       "        77249.90582677,  73242.49487805,  67137.92249315,  77180.13443038,\n",
       "        95311.75026316,  77249.90582677,  77249.90582677,  67137.92249315,\n",
       "        67137.92249315,  67137.92249315,  77249.90582677,  67137.92249315,\n",
       "        67137.92249315,  73242.49487805,  67137.92249315,  67137.92249315,\n",
       "        70080.03361607,  77249.90582677,  73242.49487805,  70080.03361607,\n",
       "        67137.92249315,  77249.90582677])"
      ]
     },
     "execution_count": 84,
     "metadata": {},
     "output_type": "execute_result"
    }
   ],
   "source": [
    "y_test_pred"
   ]
  },
  {
   "cell_type": "code",
   "execution_count": 85,
   "id": "f6dee998",
   "metadata": {},
   "outputs": [
    {
     "data": {
      "text/plain": [
       "60424631.02613475"
      ]
     },
     "execution_count": 85,
     "metadata": {},
     "output_type": "execute_result"
    }
   ],
   "source": [
    "mean_squared_error(y_test, y_test_pred)"
   ]
  },
  {
   "cell_type": "code",
   "execution_count": 86,
   "id": "f7935bdf",
   "metadata": {},
   "outputs": [
    {
     "data": {
      "text/plain": [
       "0.6137194061789908"
      ]
     },
     "execution_count": 86,
     "metadata": {},
     "output_type": "execute_result"
    }
   ],
   "source": [
    "r2_score(y_train, y_train_pred)"
   ]
  },
  {
   "cell_type": "code",
   "execution_count": 87,
   "id": "845aaba9",
   "metadata": {},
   "outputs": [
    {
     "data": {
      "text/plain": [
       "0.5927831611924911"
      ]
     },
     "execution_count": 87,
     "metadata": {},
     "output_type": "execute_result"
    }
   ],
   "source": [
    "r2_score(y_test, y_test_pred)"
   ]
  },
  {
   "cell_type": "code",
   "execution_count": 88,
   "id": "5117ddbb",
   "metadata": {},
   "outputs": [
    {
     "name": "stdout",
     "output_type": "stream",
     "text": [
      "Decision Tree Regression:\n",
      "R-squared (R^2) - Train: 0.6137194061789908, Test: 0.5927831611924911\n",
      "Mean Squared Error (MSE) - Train: 62125086.31211998, Test: 60424631.02613475\n",
      "\n"
     ]
    }
   ],
   "source": [
    "# Print the results\n",
    "print(\"Decision Tree Regression:\")\n",
    "print(f\"R-squared (R^2) - Train: {r2_score(y_train, y_train_pred)}, Test: {r2_score(y_test, y_test_pred)}\")\n",
    "print(f\"Mean Squared Error (MSE) - Train: {mean_squared_error(y_train, y_train_pred)}, Test: {mean_squared_error(y_test, y_test_pred)}\\n\")"
   ]
  },
  {
   "cell_type": "markdown",
   "id": "beb4bc80",
   "metadata": {},
   "source": [
    "# DECISION TREE REGRESSION WITH GRIDSEARCH CV "
   ]
  },
  {
   "cell_type": "code",
   "execution_count": 89,
   "id": "6927239e",
   "metadata": {},
   "outputs": [
    {
     "name": "stdout",
     "output_type": "stream",
     "text": [
      "Decision Tree Regression with GridSearchCV\n",
      "Mean Squared Error on the training set: 57933285.64360235\n",
      "Mean Squared Error on the test set: 58875901.69009934\n",
      "R-squared score on the training set: 0.6397831325660944\n",
      "R-squared score on the test set: 0.603220439065417\n",
      "Best hyperparameters: {'max_depth': 4, 'min_samples_leaf': 1, 'min_samples_split': 2}\n"
     ]
    }
   ],
   "source": [
    "from sklearn.tree import DecisionTreeRegressor\n",
    "from sklearn.model_selection import GridSearchCV\n",
    "# Define the DecisionTreeRegressor\n",
    "dt_reg = DecisionTreeRegressor()\n",
    "# Define the hyperparameter grid to search\n",
    "param_grid = {'max_depth': [2, 3, 4, 5],'min_samples_split': [2,4, 5,6, 10],'min_samples_leaf': [1, 2, 4,6,8]}\n",
    "# Create the GridSearchCV object\n",
    "grid_search = GridSearchCV(dt_reg, param_grid, cv=5, scoring='neg_mean_squared_error', n_jobs=-1)\n",
    "# Fit the model\n",
    "grid_search.fit(X_train, y_train)\n",
    "# Get the best hyperparameters\n",
    "best_params = grid_search.best_params_\n",
    "# Get the best model\n",
    "best_model = grid_search.best_estimator_\n",
    "# Make predictions on the test set\n",
    "y_pred_train = best_model.predict(X_train)\n",
    "y_pred_test = best_model.predict(X_test)\n",
    "\n",
    "# Evaluate the model\n",
    "mse_train = mean_squared_error(y_train, y_pred_train)\n",
    "mse_test = mean_squared_error(y_test, y_pred_test)\n",
    "\n",
    "# Calculate R-squared scores\n",
    "r2_train = r2_score(y_train, y_pred_train)\n",
    "r2_test = r2_score(y_test, y_pred_test)\n",
    "\n",
    "# Print the results\n",
    "print(\"Decision Tree Regression with GridSearchCV\")\n",
    "print(f\"Mean Squared Error on the training set: {mse_train}\")\n",
    "print(f\"Mean Squared Error on the test set: {mse_test}\")\n",
    "\n",
    "# Print R-squared scores\n",
    "print(f\"R-squared score on the training set: {r2_train}\")\n",
    "print(f\"R-squared score on the test set: {r2_test}\")\n",
    "\n",
    "# Print the best hyperparameters\n",
    "print(\"Best hyperparameters:\", best_params)"
   ]
  },
  {
   "cell_type": "markdown",
   "id": "f321f4bf",
   "metadata": {},
   "source": [
    "# RANDOM FOREST REGRESSOR WITH GRIDSEARCHCV"
   ]
  },
  {
   "cell_type": "code",
   "execution_count": 90,
   "id": "6b3dc891",
   "metadata": {},
   "outputs": [
    {
     "name": "stdout",
     "output_type": "stream",
     "text": [
      "RandomForestRegressor with GridSearchCV:\n",
      "Best Hyperparameters:  {'max_depth': 20, 'min_samples_leaf': 2, 'min_samples_split': 5, 'n_estimators': 300}\n",
      "R-squared (R2) for Training Data: 0.8973929026362971\n",
      "R-squared (R2) for Testing Data: 0.6479842578188524\n",
      "Mean Squared Error (MSE) for Training Data: 16502187.482164528\n",
      "Mean Squared Error (MSE) for Testing Data: 52233648.78273448\n"
     ]
    }
   ],
   "source": [
    "from sklearn.ensemble import RandomForestRegressor\n",
    "from sklearn.model_selection import cross_val_score\n",
    "# Define the hyperparameters and their possible values\n",
    "param_grid = {'n_estimators': [100, 300],'max_depth': [20, 30],'min_samples_split': [5, 10], 'min_samples_leaf': [2, 4]}\n",
    "# Create a RandomForestRegressor\n",
    "rf_gs = RandomForestRegressor()\n",
    "# Create the GridSearchCV object\n",
    "grid_search = GridSearchCV(rf_gs, param_grid, cv=5, scoring='neg_mean_squared_error', n_jobs=-1)\n",
    "# Fit the GridSearchCV to the training data\n",
    "grid_search.fit(X_train, y_train)\n",
    "print(\"RandomForestRegressor with GridSearchCV:\")\n",
    "# Pint the best hyperparameters and corresponding mean squared error\n",
    "print(\"Best Hyperparameters: \", grid_search.best_params_)\n",
    "# Get the best estimator (RandomForestRegressor) with the best hyperparameters\n",
    "best_rf = grid_search.best_estimator_\n",
    "# Use the best estimator to make predictions\n",
    "y_train_pred = best_rf.predict(X_train)\n",
    "y_test_pred = best_rf.predict(X_test)\n",
    "# Calculate the R-squared scores for training data\n",
    "r2_train_rf = r2_score(y_train, y_train_pred)\n",
    "# Calculate the R-squared scores for testing data\n",
    "r2_test_rf = r2_score(y_test, y_test_pred)\n",
    "\n",
    "# Calculate the Mean Squared Error for training data\n",
    "mse_train_rf = mean_squared_error(y_train, y_train_pred)\n",
    "# Calculate the Mean Squared Error for testing data\n",
    "mse_test_rf = mean_squared_error(y_test, y_test_pred)\n",
    "# Print the results\n",
    "print(\"R-squared (R2) for Training Data:\", r2_train_rf)\n",
    "print(\"R-squared (R2) for Testing Data:\", r2_test_rf)\n",
    "print(\"Mean Squared Error (MSE) for Training Data:\", mse_train_rf)\n",
    "print(\"Mean Squared Error (MSE) for Testing Data:\", mse_test_rf)"
   ]
  },
  {
   "cell_type": "markdown",
   "id": "e5b3056f",
   "metadata": {},
   "source": [
    "# INSTALLING XGBOOST \n"
   ]
  },
  {
   "cell_type": "code",
   "execution_count": 91,
   "id": "20a4d578",
   "metadata": {},
   "outputs": [
    {
     "name": "stdout",
     "output_type": "stream",
     "text": [
      "Requirement already satisfied: xgboost in e:\\system_download\\lib\\site-packages (2.0.3)\n",
      "Requirement already satisfied: numpy in e:\\system_download\\lib\\site-packages (from xgboost) (1.24.3)\n",
      "Requirement already satisfied: scipy in e:\\system_download\\lib\\site-packages (from xgboost) (1.11.1)\n",
      "Note: you may need to restart the kernel to use updated packages.\n"
     ]
    }
   ],
   "source": [
    "%pip install xgboost"
   ]
  },
  {
   "cell_type": "markdown",
   "id": "29c8e028",
   "metadata": {},
   "source": [
    "# BAGGING REGRESSOR"
   ]
  },
  {
   "cell_type": "code",
   "execution_count": 93,
   "id": "99ccc368",
   "metadata": {},
   "outputs": [
    {
     "name": "stdout",
     "output_type": "stream",
     "text": [
      "Bagging Regressor:\n",
      "Best Hyperparameters:  {'n_estimators': 100}\n",
      "R-squared (R2) for Training Data: 0.947404881575045\n",
      "R-squared (R2) for Testing Data: 0.6536800960189557\n",
      "Mean Squared Error (MSE) for Training Data: 8458815.493228097\n",
      "Mean Squared Error (MSE) for Testing Data: 51388475.18275845\n"
     ]
    }
   ],
   "source": [
    "from sklearn.ensemble import BaggingRegressor\n",
    "# Create a base regression model\n",
    "base_model = DecisionTreeRegressor(random_state=0)\n",
    "# Create a BaggingRegressor with the base model\n",
    "bagging_reg = BaggingRegressor(base_model, random_state=0)\n",
    "# Define the hyperparameters and their possible values\n",
    "param_grid = {'n_estimators': [50, 100, 150, 200]}\n",
    "# Create the GridSearchCV object\n",
    "grid_search = GridSearchCV(bagging_reg, param_grid, cv=5, scoring='r2', n_jobs=-1)\n",
    "# Fit the GridSearchCV to the training data\n",
    "grid_search.fit(X_train, y_train)  # Assuming X_train and y_train are your training data\n",
    "# Print the best hyperparameters and corresponding mean squared error\n",
    "print(\"Bagging Regressor:\")\n",
    "print(\"Best Hyperparameters: \", grid_search.best_params_)\n",
    "# Get the best estimator (BaggingRegressor) with the best hyperparameters\n",
    "best_bagging_reg = grid_search.best_estimator_\n",
    "# Use the best estimator to make predictions\n",
    "y_train_pred = best_bagging_reg.predict(X_train)\n",
    "y_test_pred = best_bagging_reg.predict(X_test)  # Assuming X_test is your testing data\n",
    "# Calculate the R-squared scores for training data\n",
    "r2_train_bagging_reg = r2_score(y_train, y_train_pred)\n",
    "# Calculate the R-squared scores for testing data\n",
    "r2_test_bagging_reg = r2_score(y_test, y_test_pred)\n",
    "# Calculate the Mean Squared Error for training data\n",
    "mse_train_bagging_reg = mean_squared_error(y_train, y_train_pred)\n",
    "mse_test_bagging_reg = mean_squared_error(y_test, y_test_pred)\n",
    "# Print the results\n",
    "\n",
    "print(\"R-squared (R2) for Training Data:\", r2_train_bagging_reg)\n",
    "print(\"R-squared (R2) for Testing Data:\", r2_test_bagging_reg)\n",
    "print(\"Mean Squared Error (MSE) for Training Data:\", mse_train_bagging_reg)\n",
    "print(\"Mean Squared Error (MSE) for Testing Data:\", mse_test_bagging_reg)\n"
   ]
  },
  {
   "cell_type": "markdown",
   "id": "09636ec7",
   "metadata": {},
   "source": [
    "# BOOSTING METHODS"
   ]
  },
  {
   "cell_type": "code",
   "execution_count": 94,
   "id": "928ee462",
   "metadata": {},
   "outputs": [
    {
     "name": "stdout",
     "output_type": "stream",
     "text": [
      "Boosting:\n",
      "XGBoost MSE on train set: 12458681.615640054\n",
      "XGBoost R2 Score on train set: 0.9225345634364543\n",
      "XGBoost MSE on test set: 54218122.41774174\n",
      "XGBoost R2 Score on test set: 0.6346103891394561\n",
      "Gradient Boosting MSE on train set: 44628728.61081262\n",
      "Gradient Boosting R2 Score on train set: 0.7225080428435853\n",
      "Gradient Boosting MSE on test set: 56652269.71261414\n",
      "Gradient Boosting R2 Score on test set: 0.6182060561749558\n",
      "AdaBoost MSE on train set: 60558184.574090004\n",
      "AdaBoost R2 Score on train set: 0.6234620684392009\n",
      "AdaBoost MSE on test set: 60450454.93164119\n",
      "AdaBoost R2 Score on test set: 0.5926091273756946\n",
      "\n",
      "XGBoost Cross-Validation MSE: 58742562.79002507\n",
      "Gradient Boosting Cross-Validation MSE: 59167220.74099176\n",
      "AdaBoost Cross-Validation MSE: 63320045.15344093\n",
      "\n",
      "XGBoost Training Time: 0.08896493911743164\n",
      "Gradient Boosting Training Time: 0.20366692543029785\n",
      "AdaBoost Training Time: 0.25098514556884766\n",
      "\n",
      "Best Boosting Algorithm: XGBoost with MSE: 54218122.41774174\n"
     ]
    }
   ],
   "source": [
    "# Import necessary libraries\n",
    "from sklearn.ensemble import GradientBoostingRegressor, AdaBoostRegressor\n",
    "from xgboost import XGBRegressor\n",
    "from sklearn.metrics import mean_squared_error, r2_score\n",
    "from sklearn.model_selection import cross_val_score\n",
    "import time\n",
    "\n",
    "# XGBoost\n",
    "start_time = time.time()\n",
    "xgb_model = XGBRegressor(n_estimators=100, learning_rate=0.1, random_state=0)\n",
    "xgb_model.fit(X_train, y_train)\n",
    "xgb_train_pred = xgb_model.predict(X_train)\n",
    "xgb_test_pred = xgb_model.predict(X_test)\n",
    "xgb_train_r2 = r2_score(y_train, xgb_train_pred)\n",
    "xgb_test_r2 = r2_score(y_test, xgb_test_pred)\n",
    "xgb_training_time = time.time() - start_time\n",
    "\n",
    "# Gradient Boosting\n",
    "start_time = time.time()\n",
    "gb_model = GradientBoostingRegressor(n_estimators=100, learning_rate=0.1, random_state=0)\n",
    "gb_model.fit(X_train, y_train)\n",
    "gb_train_pred = gb_model.predict(X_train)\n",
    "gb_test_pred = gb_model.predict(X_test)\n",
    "gb_train_r2 = r2_score(y_train, gb_train_pred)\n",
    "gb_test_r2 = r2_score(y_test, gb_test_pred)\n",
    "gb_training_time = time.time() - start_time\n",
    "\n",
    "# AdaBoost\n",
    "start_time = time.time()\n",
    "ada_model = AdaBoostRegressor(n_estimators=100, learning_rate=0.1, random_state=0)\n",
    "ada_model.fit(X_train, y_train)\n",
    "ada_train_pred = ada_model.predict(X_train)\n",
    "ada_test_pred = ada_model.predict(X_test)\n",
    "ada_train_r2 = r2_score(y_train, ada_train_pred)\n",
    "ada_test_r2 = r2_score(y_test, ada_test_pred)\n",
    "ada_training_time = time.time() - start_time\n",
    "\n",
    "# Cross-validation scores\n",
    "cv_xgb = cross_val_score(xgb_model, X, y, cv=5, scoring='neg_mean_squared_error').mean()\n",
    "cv_gb = cross_val_score(gb_model, X, y, cv=5, scoring='neg_mean_squared_error').mean()\n",
    "cv_ada = cross_val_score(ada_model, X, y, cv=5, scoring='neg_mean_squared_error').mean()\n",
    "\n",
    "# Print results\n",
    "print(\"Boosting:\")\n",
    "print(\"XGBoost MSE on train set:\", mean_squared_error(y_train, xgb_train_pred))\n",
    "print(\"XGBoost R2 Score on train set:\", xgb_train_r2)\n",
    "print(\"XGBoost MSE on test set:\", mean_squared_error(y_test, xgb_test_pred))\n",
    "print(\"XGBoost R2 Score on test set:\", xgb_test_r2)\n",
    "\n",
    "print(\"Gradient Boosting MSE on train set:\", mean_squared_error(y_train, gb_train_pred))\n",
    "print(\"Gradient Boosting R2 Score on train set:\", gb_train_r2)\n",
    "print(\"Gradient Boosting MSE on test set:\", mean_squared_error(y_test, gb_test_pred))\n",
    "print(\"Gradient Boosting R2 Score on test set:\", gb_test_r2)\n",
    "\n",
    "print(\"AdaBoost MSE on train set:\", mean_squared_error(y_train, ada_train_pred))\n",
    "print(\"AdaBoost R2 Score on train set:\", ada_train_r2)\n",
    "print(\"AdaBoost MSE on test set:\", mean_squared_error(y_test, ada_test_pred))\n",
    "print(\"AdaBoost R2 Score on test set:\", ada_test_r2)\n",
    "\n",
    "print(\"\\nXGBoost Cross-Validation MSE:\", -cv_xgb)\n",
    "print(\"Gradient Boosting Cross-Validation MSE:\", -cv_gb)\n",
    "print(\"AdaBoost Cross-Validation MSE:\", -cv_ada)\n",
    "\n",
    "print(\"\\nXGBoost Training Time:\", xgb_training_time)\n",
    "print(\"Gradient Boosting Training Time:\", gb_training_time)\n",
    "print(\"AdaBoost Training Time:\", ada_training_time)\n",
    "\n",
    "# Identify the best model\n",
    "best_model = min({\"XGBoost\": mean_squared_error(y_test, xgb_test_pred),\n",
    "                  \"Gradient Boosting\": mean_squared_error(y_test, gb_test_pred),\n",
    "                  \"AdaBoost\": mean_squared_error(y_test, ada_test_pred)}.items(), key=lambda x: x[1])\n",
    "\n",
    "print(f\"\\nBest Boosting Algorithm: {best_model[0]} with MSE: {best_model[1]}\")\n"
   ]
  },
  {
   "cell_type": "markdown",
   "id": "ae498591",
   "metadata": {},
   "source": [
    "## 1. Your views about the problem statement?"
   ]
  },
  {
   "cell_type": "markdown",
   "id": "d576ea1b",
   "metadata": {},
   "source": [
    "TechWorks Consulting, a company known for connecting businesses with great talent, is working on creating a machine learning model. The goal is to not only find the best people for the job but also to decide on fair and competitive salaries. The idea is to use data science to make smart choices in hiring, ensuring that the company can attract and keep excellent professionals. As a data scientist, my job is to build a model that looks at things like college reputation, experience, job role, past pay, and academic records. This model will be really important in making sure the hiring process is effective and fair."
   ]
  },
  {
   "cell_type": "markdown",
   "id": "db0a5844",
   "metadata": {},
   "source": [
    "## 2.What will be your approach to solving this task? "
   ]
  },
  {
   "cell_type": "markdown",
   "id": "464e7ecc",
   "metadata": {},
   "source": [
    "# DATA PREPROCESSING:\n",
    "Import Essential Libraries:\n",
    "- Import the necessary libraries, including pandas, numpy, seaborn, and matplotlib.\n",
    "Load CSV Files:\n",
    "- Load the three CSV files into the system using appropriate file paths.\n",
    "Explore Data:\n",
    "- Examine the loaded data to gain insights into its structure and content.\n",
    "Transform \"College\" Feature:\n",
    "- Convert the \"College\" feature into a numerical representation based on predefined college tiers.\n",
    "Categorize \"City\" Feature:\n",
    "- Represent the \"City\" feature numerically to distinguish between metro and non-metro cities.\n",
    "Create Dummy Variables:\n",
    "- Generate dummy variables for the \"Tier\" and \"Role\" fields to facilitate further analysis.\n",
    "Conduct Exploratory Data Analysis (EDA):\n",
    "- Perform a comprehensive EDA, including histograms, box plots, and correlation matrices, to better understand the distribution and relationships within the dataset.\n",
    "Handle Null Values:\n",
    "- Implement robust strategies to handle null values in the dataset, ensuring data integrity.\n",
    "Identify and Address Outliers:\n",
    "- Utilize percentile analysis to identify outliers and take appropriate measures to handle them effectively.\n",
    "\n",
    "\n",
    "MODEL SELECTION:\n",
    "- Simple Linear Regression\n",
    "- Multiple Linear Regression\n",
    "- Ridge Regression\n",
    "- Lasso Regression\n",
    "- Decision Tree Regression\n",
    "- Random Forest Regressor\n",
    "- XG Boost Regressor\n",
    "- Bagging Regressor\n",
    "\n",
    "\n",
    "MODEL TRANNING AND EVALUATION:\n",
    "- Split the data for training and testing. Train the model, evaluate its performance using metrics like R-Squared and Mean Squared Error, and choose the model with the best results.\n",
    "\n",
    "\n",
    "MODEL OPTIMIZATION:\n",
    "- Optimize the model with cross-validation and hyperparameters.\n",
    "\n",
    "\n",
    "CONCLUSION OR RESULT:\n",
    "- After performing the all model and get the result I will choose the best model according to R2 score and Mean Squared Error (MSE). Model which have High R2 score and Less MSE is the best one.  \n"
   ]
  },
  {
   "cell_type": "markdown",
   "id": "3a6a59e5",
   "metadata": {},
   "source": [
    "## 3. What were the available ML model options you had to perform this task?"
   ]
  },
  {
   "cell_type": "markdown",
   "id": "df44fccb",
   "metadata": {},
   "source": [
    "Machine Learning Model Options\n",
    "The machine learning model options considered for this task encompass a spectrum of regression models tailored for predicting salary structures:\n",
    "\n",
    "Simple Linear Regression:\n",
    "- Suitable for straightforward, linear relationships between one feature and salary.\n",
    "\n",
    "\n",
    "Multiple Linear Regression:\n",
    "- Useful when multiple features influence salary, allowing consideration of complex relationships.\n",
    "\n",
    "\n",
    "Ridge Regression:\n",
    "- Prevents overfitting by adding a penalty term, particularly beneficial for handling multicollinearity.\n",
    "\n",
    "\n",
    "Lasso Regression:\n",
    "- Aids in feature selection and combats overfitting by encouraging some features to have zero influence on salary prediction.\n",
    "\n",
    "\n",
    "Decision Tree Regression:\n",
    "- Captures non-linear relationships and complex patterns when the salary prediction is not linear.\n",
    "\n",
    "\n",
    "Random Forest Regressor:\n",
    "An ensemble learning model that combines multiple decision trees, enhancing predictive performance.\n",
    "\n",
    "\n",
    "XG Boost Regressor:\n",
    "- A gradient boosting model known for high predictive power and computational efficiency.\n",
    "\n",
    "\n",
    "Bagging Regressor:\n",
    "- Utilizes Bootstrap Aggregating to create an ensemble of multiple decision tree regressors, improving prediction accuracy."
   ]
  },
  {
   "cell_type": "markdown",
   "id": "6f385103",
   "metadata": {},
   "source": [
    "## 4.Which model’s performance is best and what could be the possible reason for that?"
   ]
  },
  {
   "cell_type": "markdown",
   "id": "d8928079",
   "metadata": {},
   "source": [
    "## Evaluation of Model Performance\n",
    "\n",
    "### Linear Regression:\n",
    "- **R-squared (R^2):**\n",
    "  - Train: 0.5367\n",
    "  - Test: 0.5335\n",
    "- **Mean Squared Error (MSE):**\n",
    "  - Train: 75026071.4080\n",
    "  - Test: 8291.6418\n",
    "\n",
    "### Ridge Regression:\n",
    "- **R-squared (R^2):**\n",
    "  - Train: 0.5335\n",
    "  - Test: 0.5366\n",
    "- **Mean Squared Error (MSE):**\n",
    "  - Train: 8661.9004\n",
    "  - Test: 8292.4016\n",
    "\n",
    "### Lasso Regression:\n",
    "- **R-squared (R^2):**\n",
    "  - Train: 0.5332\n",
    "  - Test: 0.5374\n",
    "- **Mean Squared Error (MSE):**\n",
    "  - Train: 75080196.9627\n",
    "  - Test: 68643390.1817\n",
    "\n",
    "### Decision Tree Regression:\n",
    "- **R-squared (R^2):**\n",
    "  - Train: 0.6137\n",
    "  - Test: 0.5928\n",
    "- **Mean Squared Error (MSE):**\n",
    "  - Train: 62125086.3121\n",
    "  - Test: 60424631.0261\n",
    "\n",
    "### Decision Tree Regression with GridSearchCV:\n",
    "- **Best Hyperparameters:**\n",
    "  - {'max_depth': 4, 'min_samples_leaf': 1, 'min_samples_split': 2}\n",
    "- **R-squared (R^2):**\n",
    "  - Train: 0.6398\n",
    "  - Test: 0.6032\n",
    "- **Mean Squared Error (MSE):**\n",
    "  - Train: 57933285.6436\n",
    "  - Test: 58875901.6901\n",
    "\n",
    "### RandomForestRegressor with GridSearchCV:\n",
    "- **Best Hyperparameters:**\n",
    "  - {'max_depth': 20, 'min_samples_leaf': 2, 'min_samples_split': 5, 'n_estimators': 300}\n",
    "- **R-squared (R2):**\n",
    "  - Train: 0.8971\n",
    "  - Test: 0.6518\n",
    "- **Mean Squared Error (MSE):**\n",
    "  - Train: 16550581.0031\n",
    "  - Test: 51665892.7021\n",
    "- **Mean R-squared (R2) for Cross-Validation:**\n",
    "  - 0.6034\n",
    "- **Mean Mean Squared Error (MSE) for Cross-Validation:**\n",
    "  - 63146810.0167\n",
    "\n",
    "### Boosting:\n",
    "- Boosting:\n",
    "-  XGBoost MSE on train set: 12458681.615640054\n",
    "- XGBoost R2 Score on train set: 0.9225345634364543\n",
    "- XGBoost MSE on test set: 54218122.41774174\n",
    "- XGBoost R2 Score on test set: 0.6346103891394561\n",
    "- Gradient Boosting MSE on train set: 44628728.61081262\n",
    "- Gradient Boosting R2 Score on train set: 0.7225080428435853\n",
    "- Gradient Boosting MSE on test set: 56652269.71261414\n",
    "- Gradient Boosting R2 Score on test set: 0.6182060561749558\n",
    "- AdaBoost MSE on train set: 60558184.574090004\n",
    "- AdaBoost R2 Score on train set: 0.6234620684392009\n",
    "- AdaBoost MSE on test set: 60450454.93164119\n",
    "- AdaBoost R2 Score on test set: 0.5926091273756946\n",
    "\n",
    "- XGBoost Cross-Validation MSE: 58742562.79002507\n",
    "- Gradient Boosting Cross-Validation MSE: 59167220.74099176\n",
    "- AdaBoost Cross-Validation MSE: 63320045.15344093\n",
    "\n",
    "- XGBoost Training Time: 0.08896493911743164\n",
    "- Gradient Boosting Training Time: 0.20366692543029785\n",
    "- AdaBoost Training Time: 0.25098514556884766\n",
    "\n",
    "Best Boosting Algorithm: XGBoost with MSE: 54218122.41774174\n",
    "\n",
    "### Bagging Regressor:\n",
    "- **Best Hyperparameters:**\n",
    "  - {'n_estimators': 100}\n",
    "- **R-squared (R2):**\n",
    "  - Train: 0.9474\n",
    "  - Test: 0.6537\n",
    "- **Mean Squared Error (MSE):**\n",
    "  - Train: 8458815.4932\n",
    "  - Test: 51388475.1828\n",
    "  \n",
    "  ### Best Performing Model: Random Forest Regressor with GridSearchCV and XGBoost\n",
    "- Best Hyperparameters: {'max_depth': 20, 'min_samples_leaf': 2, 'min_samples_split': 5, 'n_estimators': 300}\n",
    "\n",
    "### Reasons for Selection:\n",
    "- Random Forest Regressor and XGBoost:\n",
    "These models are recommended for their strong performance, balanced metrics, and ability to handle complex relationships.\n",
    "Random Forest performs well with ensemble techniques and optimized hyperparameters.\n",
    "XGBoost is efficient and shows competitive performance with boosting algorithms."
   ]
  },
  {
   "cell_type": "markdown",
   "id": "80b39dc9",
   "metadata": {},
   "source": [
    "## 5. What steps can you take to improve this selected model’s performance even further?"
   ]
  },
  {
   "cell_type": "markdown",
   "id": "9a419a74",
   "metadata": {},
   "source": [
    "**For Random Forest Regressor**\n",
    "  Feature Engineering:\n",
    "Create relevant features.\n",
    "\n",
    "Hyperparameter Tuning:\n",
    "Further fine-tune hyperparameters.\n",
    "\n",
    "Ensemble Techniques:\n",
    "Consider ensembling with other models.\n",
    "\n",
    "Data Cleaning:\n",
    "Handle outliers and missing values.\n",
    "\n",
    "Feature Importance Analysis:\n",
    "Reassess and focus on influential variables.\n",
    "\n",
    "**For XGBoost**\n",
    "\n",
    "Learning Rate:\n",
    "Experiment with different learning rates.\n",
    "\n",
    "Feature Scaling:\n",
    "Standardize or normalize features.\n",
    "\n",
    "\n",
    "Increase Trees:\n",
    "Consider more boosting rounds.\n",
    "\n",
    "Regularization:\n",
    "Adjust regularization parameters.\n",
    "\n",
    "\n",
    "Early Stopping:\n",
    "Implement early stopping.\n",
    "\n",
    "\n",
    "Cross-Validation:\n",
    "Optimize hyperparameters with advanced techniques."
   ]
  },
  {
   "cell_type": "code",
   "execution_count": null,
   "id": "1efd9922",
   "metadata": {},
   "outputs": [],
   "source": []
  }
 ],
 "metadata": {
  "kernelspec": {
   "display_name": "Python 3 (ipykernel)",
   "language": "python",
   "name": "python3"
  },
  "language_info": {
   "codemirror_mode": {
    "name": "ipython",
    "version": 3
   },
   "file_extension": ".py",
   "mimetype": "text/x-python",
   "name": "python",
   "nbconvert_exporter": "python",
   "pygments_lexer": "ipython3",
   "version": "3.11.5"
  }
 },
 "nbformat": 4,
 "nbformat_minor": 5
}
